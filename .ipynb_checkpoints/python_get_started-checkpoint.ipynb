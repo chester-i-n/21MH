{
 "cells": [
  {
   "cell_type": "markdown",
   "metadata": {
    "id": "xMIElUGy1p6_"
   },
   "source": [
    "# Типы данных и операторы"
   ]
  },
  {
   "cell_type": "code",
   "execution_count": null,
   "metadata": {
    "colab": {
     "base_uri": "https://localhost:8080/"
    },
    "id": "axaIYsvG1p7A",
    "outputId": "5c993510-9ec6-4856-c9bf-ca78f8dd9bcf"
   },
   "outputs": [
    {
     "name": "stdout",
     "output_type": "stream",
     "text": [
      "'Hello world!' - <class 'str'>\n",
      "4 - <class 'int'>\n",
      "4. - <class 'float'>\n",
      "True - <class 'bool'>\n",
      "None - <class 'NoneType'>\n"
     ]
    }
   ],
   "source": [
    "# Типы данных\n",
    "\n",
    "print(f'\\'Hello world!\\' - {type(\"Hello world!\")}')\n",
    "print(f'4 - {type(4)}')\n",
    "print(f'4. - {type(4.)}')\n",
    "print(f'True - {type(True)}')\n",
    "print(f'None - {type(None)}')"
   ]
  },
  {
   "cell_type": "code",
   "execution_count": null,
   "metadata": {
    "colab": {
     "base_uri": "https://localhost:8080/"
    },
    "id": "PtXSyOPC1p7A",
    "outputId": "1fd0cfdd-27fc-40bb-bd1b-d705e2eb8952"
   },
   "outputs": [
    {
     "name": "stdout",
     "output_type": "stream",
     "text": [
      "2 + 3 = 5\n",
      "5.5 - 2 = 3.5\n",
      "20 * 3 = 60\n",
      "20 / 3 = 6.666666666666667\n",
      "12 // 5 = 2\n",
      "12 % 5 = 2\n",
      "2 ** 2 = 4\n",
      "4 ** 0.5 = 2.0\n"
     ]
    }
   ],
   "source": [
    "# Арифметические операторы\n",
    "\n",
    "print(f'2 + 3 = {2 + 3}')\n",
    "print(f'5.5 - 2 = {5.5 - 2}')\n",
    "print(f'20 * 3 = {20 * 3}')\n",
    "print(f'20 / 3 = {20 / 3}')\n",
    "print(f'12 // 5 = {12 // 5}')\n",
    "print(f'12 % 5 = {12 % 5}')\n",
    "print(f'2 ** 2 = {2 ** 2}')\n",
    "print(f'4 ** 0.5 = {4 ** 0.5}')"
   ]
  },
  {
   "cell_type": "code",
   "execution_count": null,
   "metadata": {
    "colab": {
     "base_uri": "https://localhost:8080/"
    },
    "id": "-_6I_OeQ1p7B",
    "outputId": "f8d08f75-b38a-470d-ddae-2f5ac804b573"
   },
   "outputs": [
    {
     "name": "stdout",
     "output_type": "stream",
     "text": [
      "5 > 2 - True\n",
      "5 <= 2 - False\n",
      "5 == 5 - True\n"
     ]
    }
   ],
   "source": [
    "# Операторы сравнения\n",
    "\n",
    "print(f'5 > 2 - {5 > 2}')\n",
    "print(f'5 <= 2 - {5 <= 2}')\n",
    "print(f'5 == 5 - {5 == 5}')"
   ]
  },
  {
   "cell_type": "code",
   "execution_count": null,
   "metadata": {
    "colab": {
     "base_uri": "https://localhost:8080/"
    },
    "id": "tK92pbCF1p7B",
    "outputId": "bed7f61e-dc1b-40b3-8cfb-c47a10af9aa1"
   },
   "outputs": [
    {
     "name": "stdout",
     "output_type": "stream",
     "text": [
      "5 == 5 and 5 <= 2 - False\n",
      "5 == 5 or 5 <= 2 - True\n",
      "not 5 == 5 - False\n"
     ]
    }
   ],
   "source": [
    "# Логические операторы\n",
    "\n",
    "print(f'5 == 5 and 5 <= 2 - {5 == 5 and 5 <= 2}')\n",
    "print(f'5 == 5 or 5 <= 2 - {5 == 5 or 5 <= 2}')\n",
    "print(f'not 5 == 5 - {not 5 == 5}')"
   ]
  },
  {
   "cell_type": "code",
   "execution_count": null,
   "metadata": {
    "colab": {
     "base_uri": "https://localhost:8080/"
    },
    "id": "x24QnyLK1p7C",
    "outputId": "3b7ee321-112c-4ed6-92c5-e97a9d664b10"
   },
   "outputs": [
    {
     "name": "stdout",
     "output_type": "stream",
     "text": [
      "int(5.6) - 5\n",
      "float('6.5') - 6.5\n",
      "bool(10) - True\n"
     ]
    }
   ],
   "source": [
    "# Приведение типов\n",
    "\n",
    "print(f'int(5.6) - {int(5.6)}')\n",
    "print(f'float(\\'6.5\\') - {float(\"6.5\")}')\n",
    "print(f'bool(10) - {bool(10)}')"
   ]
  },
  {
   "cell_type": "markdown",
   "metadata": {
    "id": "ylR0s8rdtf6P"
   },
   "source": [
    "#Переменные"
   ]
  },
  {
   "cell_type": "code",
   "execution_count": null,
   "metadata": {
    "colab": {
     "base_uri": "https://localhost:8080/"
    },
    "id": "skYbtyoztlZJ",
    "outputId": "38635a4f-4f0d-415e-aab4-195e4dc4f3d8"
   },
   "outputs": [
    {
     "name": "stdout",
     "output_type": "stream",
     "text": [
      "True\n"
     ]
    }
   ],
   "source": [
    "a = 3.3\n",
    "b = a\n",
    "\n",
    "print(a is b)"
   ]
  },
  {
   "cell_type": "code",
   "execution_count": null,
   "metadata": {
    "colab": {
     "base_uri": "https://localhost:8080/"
    },
    "id": "DQD0HdqjufiG",
    "outputId": "218172f4-975e-4ada-8d41-7608692f9704"
   },
   "outputs": [
    {
     "name": "stdout",
     "output_type": "stream",
     "text": [
      "False\n"
     ]
    }
   ],
   "source": [
    "b = 4\n",
    "\n",
    "print(a is b)"
   ]
  },
  {
   "cell_type": "code",
   "execution_count": null,
   "metadata": {
    "colab": {
     "base_uri": "https://localhost:8080/"
    },
    "id": "ZPYpxvpLuXFo",
    "outputId": "d596d600-ecf6-4c60-f66e-b8def015ecbb"
   },
   "outputs": [
    {
     "name": "stdout",
     "output_type": "stream",
     "text": [
      "False\n"
     ]
    }
   ],
   "source": [
    "a = 3.3\n",
    "b = 3.3\n",
    "\n",
    "print(a is b)"
   ]
  },
  {
   "cell_type": "markdown",
   "metadata": {
    "id": "zupcZkKm1p7C"
   },
   "source": [
    "# Функции и условия"
   ]
  },
  {
   "cell_type": "code",
   "execution_count": null,
   "metadata": {
    "colab": {
     "base_uri": "https://localhost:8080/"
    },
    "id": "u5h1G5c71p7D",
    "outputId": "271728eb-cf80-4ed7-945e-36aaf33142c6"
   },
   "outputs": [
    {
     "name": "stdout",
     "output_type": "stream",
     "text": [
      "6.5\n"
     ]
    }
   ],
   "source": [
    "def summ(a, b):\n",
    "    return a + b\n",
    "\n",
    "print(summ(1, 5.5))"
   ]
  },
  {
   "cell_type": "code",
   "execution_count": null,
   "metadata": {
    "colab": {
     "base_uri": "https://localhost:8080/"
    },
    "id": "IVTpJK7h1p7D",
    "outputId": "49c6e58e-0345-4dc0-a3cc-a64c27da2fd1"
   },
   "outputs": [
    {
     "name": "stdout",
     "output_type": "stream",
     "text": [
      "7\n"
     ]
    }
   ],
   "source": [
    "def maximum(a, b):\n",
    "    if a > b:\n",
    "        return a\n",
    "    return b\n",
    "\n",
    "print(maximum(5, 7))"
   ]
  },
  {
   "cell_type": "code",
   "execution_count": null,
   "metadata": {
    "colab": {
     "base_uri": "https://localhost:8080/"
    },
    "id": "j4L_t_Yp1p7D",
    "outputId": "e1ddcb4b-2f25-4cbd-fd1f-01525efd1f4d"
   },
   "outputs": [
    {
     "name": "stdout",
     "output_type": "stream",
     "text": [
      "adult\n"
     ]
    }
   ],
   "source": [
    "def how_old(age):\n",
    "    if age < 18:\n",
    "        print('young')\n",
    "    elif age < 70:\n",
    "        print('adult')\n",
    "    else:\n",
    "        print('old')\n",
    "\n",
    "how_old(45)"
   ]
  },
  {
   "cell_type": "code",
   "execution_count": null,
   "metadata": {
    "colab": {
     "base_uri": "https://localhost:8080/"
    },
    "id": "LxxFfm021p7E",
    "outputId": "3529984a-7db2-4161-9b3c-c53e77ab8161"
   },
   "outputs": [
    {
     "name": "stdout",
     "output_type": "stream",
     "text": [
      "5\n"
     ]
    }
   ],
   "source": [
    "a = 5\n",
    "b = a if a < 10 else 10\n",
    "\n",
    "print(b)"
   ]
  },
  {
   "cell_type": "markdown",
   "metadata": {
    "id": "bRDC_2P6u-t2"
   },
   "source": [
    "# Class"
   ]
  },
  {
   "cell_type": "code",
   "execution_count": null,
   "metadata": {
    "colab": {
     "base_uri": "https://localhost:8080/"
    },
    "id": "0mT251STu8eD",
    "outputId": "4102da47-11fd-4f00-8e96-7c1dee4818af"
   },
   "outputs": [
    {
     "name": "stdout",
     "output_type": "stream",
     "text": [
      "lin.forward(6) - 41\n",
      "lin(5.6) - 38.599999999999994\n",
      "lin(5.6) - 58.1\n"
     ]
    }
   ],
   "source": [
    "class Linear:\n",
    "    def __init__(self, с_0, с_1):\n",
    "        self.с_0 = с_0\n",
    "        self.с_1 = с_1\n",
    "\n",
    "    def forward(self, x):\n",
    "        return self.с_1 * x + self.с_0\n",
    "\n",
    "    def set_coef(self, с_0, с_1):\n",
    "        self.с_0 = с_0\n",
    "        self.с_1 = с_1\n",
    "\n",
    "    def __call__(self, x):\n",
    "        return self.forward(x)\n",
    "        \n",
    "lin = Linear(5, 6)\n",
    "\n",
    "print(f'lin.forward(6) - {lin.forward(6)}')\n",
    "print(f'lin(5.6) - {lin(5.6)}')\n",
    "lin.set_coef(2.1, 10)\n",
    "print(f'lin(5.6) - {lin(5.6)}')"
   ]
  },
  {
   "cell_type": "code",
   "execution_count": null,
   "metadata": {
    "colab": {
     "base_uri": "https://localhost:8080/"
    },
    "id": "-np-JHdH9Rn8",
    "outputId": "83fbbe76-376e-4264-90d5-0b7c1d440634"
   },
   "outputs": [
    {
     "name": "stdout",
     "output_type": "stream",
     "text": [
      "quad(5.6) - 106.27999999999999\n",
      "quad(5.6) - 45.559999999999995\n"
     ]
    }
   ],
   "source": [
    "class Quadratic(Linear):\n",
    "    def __init__(self, c_0, c_1, c_2):\n",
    "        super().__init__(c_0, c_1)\n",
    "        self.c_2 = c_2\n",
    "        \n",
    "    def forward(self, x):\n",
    "        return self.c_2 * x ** 2 + super().forward(x)\n",
    "\n",
    "    def set_coef(self, c_0, c_1, c_2):\n",
    "        super().set_coef(c_0, c_1)\n",
    "        self.c_2 = c_2\n",
    "\n",
    "\n",
    "quad = Quadratic(1, 2, 3)\n",
    "\n",
    "print(f'quad(5.6) - {quad(5.6)}')\n",
    "quad.set_coef(3, 2, 1)\n",
    "print(f'quad(5.6) - {quad(5.6)}')"
   ]
  },
  {
   "cell_type": "markdown",
   "metadata": {
    "id": "Qvr32fW21p7E"
   },
   "source": [
    "# Lists"
   ]
  },
  {
   "cell_type": "code",
   "execution_count": null,
   "metadata": {
    "_cell_guid": "b1076dfc-b9ad-4769-8c92-a6c4dae69d19",
    "_uuid": "8f2839f25d086af736a60e9eeb907d3b93b6e0e5",
    "colab": {
     "base_uri": "https://localhost:8080/"
    },
    "id": "KHAbM7Zt1p7E",
    "outputId": "20b512dc-a74b-4e18-ffca-7da5d1d2002b"
   },
   "outputs": [
    {
     "name": "stdout",
     "output_type": "stream",
     "text": [
      "[5, 2.1, 0, False, [1, 2, 3]], len: 5\n"
     ]
    }
   ],
   "source": [
    "# Инициализация\n",
    "\n",
    "a = []\n",
    "a = list()\n",
    "a = [5, 2.1, 0, False, [1, 2, 3]]\n",
    "\n",
    "print('{}, len: {}'.format(a, len(a)))"
   ]
  },
  {
   "cell_type": "code",
   "execution_count": null,
   "metadata": {
    "colab": {
     "base_uri": "https://localhost:8080/"
    },
    "id": "K4aYb5rQO1Pz",
    "outputId": "ac6c24c6-e2fc-4ffe-d7e4-1d3725aa9f11"
   },
   "outputs": [
    {
     "name": "stdout",
     "output_type": "stream",
     "text": [
      "a[0] - 5, a[-2] - False\n"
     ]
    }
   ],
   "source": [
    "# Индексация\n",
    "\n",
    "print('a[0] - {}, a[-2] - {}'.format(a[0], a[-2]))"
   ]
  },
  {
   "cell_type": "code",
   "execution_count": null,
   "metadata": {
    "colab": {
     "base_uri": "https://localhost:8080/"
    },
    "id": "oYeI1gYu1p7E",
    "outputId": "6b0a3913-219b-4725-b515-44c174cb8988"
   },
   "outputs": [
    {
     "name": "stdout",
     "output_type": "stream",
     "text": [
      "a: [0, 1, 2, 3, 4, 5]\n",
      "\n",
      "a[2:5]: [2, 3, 4]\n",
      "\n",
      "a[5:2]: []\n",
      "\n",
      "a[5:2:-1]: [5, 4, 3]\n",
      "\n",
      "a[:3]: [0, 1, 2]\n",
      "\n",
      "a[2:]: [2, 3, 4, 5]\n",
      "\n"
     ]
    }
   ],
   "source": [
    "# Срезы\n",
    "\n",
    "a = [0, 1, 2, 3, 4, 5]\n",
    "\n",
    "print('a: {}\\n'.format(a))\n",
    "\n",
    "print('a[2:5]: {}\\n'.format(a[2:5]))\n",
    "print('a[5:2]: {}\\n'.format(a[5:2]))\n",
    "print('a[5:2:-1]: {}\\n'.format(a[5:2:-1]))\n",
    "print('a[:3]: {}\\n'.format(a[:3]))\n",
    "print('a[2:]: {}\\n'.format(a[2:]))"
   ]
  },
  {
   "cell_type": "code",
   "execution_count": null,
   "metadata": {
    "colab": {
     "base_uri": "https://localhost:8080/"
    },
    "id": "hwH0HW1l1p7F",
    "outputId": "4d1e8a24-9fdc-466f-d6d6-16cf348e1fec"
   },
   "outputs": [
    {
     "name": "stdout",
     "output_type": "stream",
     "text": [
      "a: [0, 1, 2, 3, 4, 5]\n",
      "\n",
      "a[-5:-2]: [1, 2, 3]\n",
      "\n",
      "a[-5:-2:-1]: []\n",
      "\n",
      "a[::-1]: [5, 4, 3, 2, 1, 0]\n",
      "\n"
     ]
    }
   ],
   "source": [
    "print('a: {}\\n'.format(a))\n",
    "print('a[-5:-2]: {}\\n'.format(a[-5:-2]))\n",
    "print('a[-5:-2:-1]: {}\\n'.format(a[-5:-2:-1]))\n",
    "print('a[::-1]: {}\\n'.format(a[::-1]))"
   ]
  },
  {
   "cell_type": "code",
   "execution_count": null,
   "metadata": {
    "colab": {
     "base_uri": "https://localhost:8080/"
    },
    "id": "ozYhKzxm1p7F",
    "outputId": "e5d0bab5-e706-4374-88ff-62fb06b515bf"
   },
   "outputs": [
    {
     "name": "stdout",
     "output_type": "stream",
     "text": [
      "[1, 4, 3]\n",
      "[1, 4, 3]\n"
     ]
    }
   ],
   "source": [
    "# Неправильное копирование списка\n",
    "\n",
    "a = [1,2,3]\n",
    "b = a\n",
    "b[1] = 4\n",
    "\n",
    "print(a)\n",
    "print(b)"
   ]
  },
  {
   "cell_type": "code",
   "execution_count": null,
   "metadata": {
    "colab": {
     "base_uri": "https://localhost:8080/"
    },
    "id": "3A6-ZGjY1p7F",
    "outputId": "dbfc1c4a-404a-4527-ad9b-ea7f12db0831"
   },
   "outputs": [
    {
     "name": "stdout",
     "output_type": "stream",
     "text": [
      "[1, 2, 3]\n",
      "[1, 4, 3]\n"
     ]
    }
   ],
   "source": [
    "# Правильное копирование списка\n",
    "\n",
    "a = [1,2,3]\n",
    "b = a[:]\n",
    "b[1] = 4\n",
    "\n",
    "print(a)\n",
    "print(b)"
   ]
  },
  {
   "cell_type": "code",
   "execution_count": 1,
   "metadata": {
    "colab": {
     "base_uri": "https://localhost:8080/"
    },
    "id": "MgeWLFhW1p7F",
    "outputId": "d766b914-3c9f-41d1-99ef-d16ba41bba95"
   },
   "outputs": [
    {
     "name": "stdout",
     "output_type": "stream",
     "text": [
      "[1, 2, 3, 4]\n",
      "[1, 3, 4]\n"
     ]
    }
   ],
   "source": [
    "# Методы для работы со списками\n",
    "\n",
    "a = [1,2,3]\n",
    "a.append(4)\n",
    "\n",
    "print(a)\n",
    "\n",
    "a = [3, 4, 1]\n",
    "a.sort()\n",
    "\n",
    "print(a)"
   ]
  },
  {
   "cell_type": "markdown",
   "metadata": {
    "id": "6VXQPqqU1p7G"
   },
   "source": [
    "# Циклы"
   ]
  },
  {
   "cell_type": "code",
   "execution_count": null,
   "metadata": {
    "colab": {
     "base_uri": "https://localhost:8080/"
    },
    "id": "fYB_kXT71p7G",
    "outputId": "78daef82-faf2-459f-9c4f-ed6a25f4052d"
   },
   "outputs": [
    {
     "name": "stdout",
     "output_type": "stream",
     "text": [
      "1\n",
      "2\n",
      "3\n"
     ]
    }
   ],
   "source": [
    "for i in [1,2,3]:\n",
    "    print(i)"
   ]
  },
  {
   "cell_type": "code",
   "execution_count": null,
   "metadata": {
    "colab": {
     "base_uri": "https://localhost:8080/"
    },
    "id": "SivXpnyk1p7G",
    "outputId": "988dd7a8-3bfb-4a3c-a0e2-46871458e8da"
   },
   "outputs": [
    {
     "name": "stdout",
     "output_type": "stream",
     "text": [
      "2\n",
      "3\n",
      "4\n",
      "5\n"
     ]
    }
   ],
   "source": [
    "# Генератор арифметической последовательности\n",
    "\n",
    "for i in range(2, 6):\n",
    "    print(i)"
   ]
  },
  {
   "cell_type": "code",
   "execution_count": null,
   "metadata": {
    "colab": {
     "base_uri": "https://localhost:8080/"
    },
    "id": "QaO0QBgC1p7G",
    "outputId": "f1a43bc5-c02d-4462-b19a-4162c44114a8"
   },
   "outputs": [
    {
     "name": "stdout",
     "output_type": "stream",
     "text": [
      "5 2\n",
      "1 4\n",
      "2 1\n",
      "5 7\n",
      "23 6\n",
      "3 8\n"
     ]
    }
   ],
   "source": [
    "# Цикл с индекосм\n",
    "\n",
    "a = [5, 1, 2, 5, 23, 3]\n",
    "b = [2, 4, 1, 7, 6, 8]\n",
    "\n",
    "for i in range(len(a)):\n",
    "    print(a[i], b[i])"
   ]
  },
  {
   "cell_type": "code",
   "execution_count": null,
   "metadata": {
    "colab": {
     "base_uri": "https://localhost:8080/"
    },
    "id": "acpnNuG91p7G",
    "outputId": "885f7174-f603-4b74-d2df-5fd89d3117ba"
   },
   "outputs": [
    {
     "name": "stdout",
     "output_type": "stream",
     "text": [
      "[0, 1, 2, 3, 4]\n"
     ]
    }
   ],
   "source": [
    "# Цикл для создания списка\n",
    "\n",
    "a = [i for i in range(5)]\n",
    "print(a)"
   ]
  },
  {
   "cell_type": "code",
   "execution_count": null,
   "metadata": {
    "colab": {
     "base_uri": "https://localhost:8080/"
    },
    "id": "mWz9J3dj1p7H",
    "outputId": "df3fe9d3-3a13-419a-f06d-c9e3d8425fdf"
   },
   "outputs": [
    {
     "name": "stdout",
     "output_type": "stream",
     "text": [
      "[0, 0, 0, 0, 0, 0, 0, 0]\n"
     ]
    }
   ],
   "source": [
    "# Размножение списков\n",
    "\n",
    "a = [0] * 8\n",
    "\n",
    "print(a)"
   ]
  },
  {
   "cell_type": "code",
   "execution_count": null,
   "metadata": {
    "colab": {
     "base_uri": "https://localhost:8080/"
    },
    "id": "i17JCxIA1p7H",
    "outputId": "0ae4273e-735f-4708-bf8b-24debf8cdc77"
   },
   "outputs": [
    {
     "name": "stdout",
     "output_type": "stream",
     "text": [
      "[0, 0, 2, 0, 0, 0, 0, 0]\n",
      "[0, 0, 2, 0, 0, 0, 0, 0]\n",
      "[0, 0, 2, 0, 0, 0, 0, 0]\n",
      "[0, 0, 2, 0, 0, 0, 0, 0]\n",
      "[0, 0, 2, 0, 0, 0, 0, 0]\n",
      "[0, 0, 2, 0, 0, 0, 0, 0]\n",
      "[0, 0, 2, 0, 0, 0, 0, 0]\n",
      "[0, 0, 2, 0, 0, 0, 0, 0]\n"
     ]
    }
   ],
   "source": [
    "# Неправильное заполнение двумерного списка нулями\n",
    "\n",
    "a = [[0] * 8] * 8\n",
    "a[0][2] = 2\n",
    "\n",
    "for i in a:\n",
    "    print(i)"
   ]
  },
  {
   "cell_type": "code",
   "execution_count": null,
   "metadata": {
    "colab": {
     "base_uri": "https://localhost:8080/"
    },
    "id": "ngyyRP1d1p7H",
    "outputId": "7ca8c1ce-07b2-4af4-dfb7-cc3665af2485"
   },
   "outputs": [
    {
     "name": "stdout",
     "output_type": "stream",
     "text": [
      "[16, 16, 16, 16, 16, 16, 16, 16]\n",
      "[16, 16, 16, 16, 16, 16, 16, 16]\n",
      "[16, 16, 16, 16, 16, 16, 16, 16]\n",
      "[16, 16, 16, 16, 16, 16, 16, 16]\n",
      "[16, 16, 16, 16, 16, 16, 16, 16]\n",
      "[16, 16, 2, 16, 16, 16, 16, 16]\n",
      "[16, 16, 16, 16, 16, 16, 16, 16]\n",
      "[16, 16, 16, 16, 16, 16, 16, 16]\n"
     ]
    }
   ],
   "source": [
    "# Неправильное заполнение двумерного списка нулями\n",
    "\n",
    "a = [[16] * 8 for i in range(8)]\n",
    "a[5][2] = 2\n",
    "\n",
    "for i in a:\n",
    "    print(i)"
   ]
  },
  {
   "cell_type": "code",
   "execution_count": null,
   "metadata": {
    "colab": {
     "base_uri": "https://localhost:8080/"
    },
    "id": "stZOXit_pE9N",
    "outputId": "6af0030b-7a26-492b-bf16-d73c401e27e0"
   },
   "outputs": [
    {
     "name": "stdout",
     "output_type": "stream",
     "text": [
      "[16, 16, 16, 16, 16, 16, 16, 16]\n",
      "[16, 16, 16, 16, 16, 16, 16, 16]\n",
      "[16, 16, 16, 16, 16, 16, 16, 16]\n",
      "[16, 16, 16, 16, 16, 16, 16, 16]\n",
      "[16, 16, 16, 16, 16, 16, 16, 16]\n",
      "[16, 16, 2, 16, 16, 16, 16, 16]\n",
      "[16, 16, 16, 16, 16, 16, 16, 16]\n",
      "[16, 16, 16, 16, 16, 16, 16, 16]\n"
     ]
    }
   ],
   "source": [
    "# Неправильное заполнение двумерного списка нулями\n",
    "\n",
    "a = [[16] * 8 for i in range(8)]\n",
    "a[-3][2] = 2\n",
    "\n",
    "for i in a:\n",
    "    print(i)"
   ]
  },
  {
   "cell_type": "code",
   "execution_count": null,
   "metadata": {
    "colab": {
     "base_uri": "https://localhost:8080/"
    },
    "id": "UF29Clay1p7H",
    "outputId": "324cda94-6a8c-4ec0-f586-dd5a86305f19"
   },
   "outputs": [
    {
     "name": "stdout",
     "output_type": "stream",
     "text": [
      "[1, 2, 3, 1, 2, 3]\n"
     ]
    }
   ],
   "source": [
    "# Конкатенация списков\n",
    "\n",
    "a = [1,2,3] + [1,2,3]\n",
    "\n",
    "print(a)"
   ]
  },
  {
   "cell_type": "code",
   "execution_count": null,
   "metadata": {
    "id": "e0cPXl681p7H"
   },
   "outputs": [],
   "source": [
    "# Распаковка при помощи цикла\n",
    "\n",
    "a = [[j, j ** 2] for j in range(8)]\n",
    "\n",
    "for num, sq in a:\n",
    "    print('Num: {}, Square {}'.format(num, sq))"
   ]
  },
  {
   "cell_type": "markdown",
   "metadata": {
    "id": "lhc4owzv1p7H"
   },
   "source": [
    "# Кортежи"
   ]
  },
  {
   "cell_type": "code",
   "execution_count": null,
   "metadata": {
    "colab": {
     "base_uri": "https://localhost:8080/"
    },
    "id": "Dg8DfX511p7H",
    "outputId": "4d249b38-e878-47a3-99bb-7c94c87d9eeb"
   },
   "outputs": [
    {
     "name": "stdout",
     "output_type": "stream",
     "text": [
      "(5, 2)\n",
      "<class 'tuple'>\n",
      "2\n"
     ]
    }
   ],
   "source": [
    "# Кортежи в функциях\n",
    "\n",
    "def find_max(x):\n",
    "    ind = 0\n",
    "    maximum = x[0]\n",
    "    for i in range(1,len(x)):\n",
    "        if x[i] > maximum:\n",
    "            maximum = x[i]\n",
    "            ind = i\n",
    "    return maximum, ind\n",
    "\n",
    "out = find_max([4,3,5])\n",
    "\n",
    "print(out)\n",
    "print(type(out))\n",
    "print(out[1])"
   ]
  },
  {
   "cell_type": "code",
   "execution_count": null,
   "metadata": {
    "colab": {
     "base_uri": "https://localhost:8080/"
    },
    "id": "TdMidygM1p7I",
    "outputId": "45473d07-35d7-43f1-d775-220d4cca897f"
   },
   "outputs": [
    {
     "name": "stdout",
     "output_type": "stream",
     "text": [
      "5 2\n"
     ]
    }
   ],
   "source": [
    "# Распаковка кортежа\n",
    "\n",
    "maximum, index = find_max([4,3,5])\n",
    "\n",
    "print(maximum, index)"
   ]
  },
  {
   "cell_type": "markdown",
   "metadata": {
    "id": "evsZOQQL1p7I"
   },
   "source": [
    "# Множества и словари"
   ]
  },
  {
   "cell_type": "code",
   "execution_count": null,
   "metadata": {
    "colab": {
     "base_uri": "https://localhost:8080/"
    },
    "id": "jt2-Xoiq1p7I",
    "outputId": "6f3f6857-4808-4600-f3de-a1aa9492628c"
   },
   "outputs": [
    {
     "name": "stdout",
     "output_type": "stream",
     "text": [
      "1\n",
      "2\n",
      "3\n",
      "4\n",
      "5\n"
     ]
    }
   ],
   "source": [
    "# Множество\n",
    "\n",
    "a = set([2,3,2,4,2,3,1,5])\n",
    "a = {2,3,2,4,2,3,1,5}\n",
    "for i in a:\n",
    "    print(i)"
   ]
  },
  {
   "cell_type": "code",
   "execution_count": null,
   "metadata": {
    "colab": {
     "base_uri": "https://localhost:8080/"
    },
    "id": "XnRJNMAk1p7I",
    "outputId": "4c37195d-cbec-4d07-9971-a8566002f683"
   },
   "outputs": [
    {
     "name": "stdout",
     "output_type": "stream",
     "text": [
      "one\n",
      "two\n",
      "1\n",
      "2\n",
      "one 1\n",
      "two 2\n"
     ]
    }
   ],
   "source": [
    "# Словарь\n",
    "\n",
    "a = {'one': 1, 'two': 2}\n",
    "for i in a:\n",
    "    print(i)\n",
    "for i in a:\n",
    "    print(a[i])\n",
    "for i, j in a.items():\n",
    "    print(i, j)"
   ]
  },
  {
   "cell_type": "code",
   "execution_count": null,
   "metadata": {
    "colab": {
     "base_uri": "https://localhost:8080/"
    },
    "id": "s2rpcPVVd4bv",
    "outputId": "9435b36b-88dd-47fd-8015-522297a09b9d"
   },
   "outputs": [
    {
     "name": "stdout",
     "output_type": "stream",
     "text": [
      "2\n"
     ]
    }
   ],
   "source": [
    "# Запись данных в словарь\n",
    "\n",
    "a = set() # Множество\n",
    "a = {}\n",
    "\n",
    "a['one'] = 1\n",
    "a['two'] = 2\n",
    "\n",
    "print(a['two'])"
   ]
  },
  {
   "cell_type": "markdown",
   "metadata": {
    "id": "LdXRo34Z1p7I"
   },
   "source": [
    "# Полезные функции"
   ]
  },
  {
   "cell_type": "code",
   "execution_count": 2,
   "metadata": {},
   "outputs": [
    {
     "name": "stdout",
     "output_type": "stream",
     "text": [
      "dsgfb\n",
      "<class 'str'>\n",
      "dsgfb\n"
     ]
    }
   ],
   "source": [
    "# Ввод данных с клавиатуры\n",
    "a = input()\n",
    "print(type(a))\n",
    "print(a)"
   ]
  },
  {
   "cell_type": "code",
   "execution_count": null,
   "metadata": {
    "id": "zrLfPvXC1p7I"
   },
   "outputs": [],
   "source": [
    "# Групповое присваивание\n",
    "\n",
    "a = 2\n",
    "b = 5\n",
    "a, b = b, a\n",
    "\n",
    "print(a, b)"
   ]
  },
  {
   "cell_type": "code",
   "execution_count": null,
   "metadata": {
    "id": "_UG8fgRp1p7J"
   },
   "outputs": [],
   "source": [
    "# Функция \"map\"\n",
    "\n",
    "a = ['1', '2', '3', '4', '5', '6', '7']\n",
    "b = list(map(int, a))\n",
    "\n",
    "print(b)"
   ]
  },
  {
   "cell_type": "code",
   "execution_count": null,
   "metadata": {
    "id": "NqoO-NfO1p7J"
   },
   "outputs": [],
   "source": [
    "# Функция \"lambda\"\n",
    "\n",
    "a = [1, 2, 3, 4, 5, 6, 7]\n",
    "b = list(map(lambda x: x ** 2 + 2, a))\n",
    "\n",
    "\n",
    "print(b)"
   ]
  },
  {
   "cell_type": "code",
   "execution_count": null,
   "metadata": {
    "id": "Q-5Q1Jy41p7J"
   },
   "outputs": [],
   "source": [
    "# Функция \"filter\"\n",
    "\n",
    "a = [1, 2, 3, 4, 5, 6, 7]\n",
    "b = list(filter(lambda x: x % 2, a)) \n",
    "\n",
    "print (b)"
   ]
  },
  {
   "cell_type": "code",
   "execution_count": null,
   "metadata": {
    "id": "dTPITwyQ1p7J"
   },
   "outputs": [],
   "source": [
    "# Функция \"reduce\"\n",
    "\n",
    "from functools import reduce\n",
    "\n",
    "a = [1, 2, 3]\n",
    "b = reduce(lambda x,y: x + y ** 2, a)\n",
    "\n",
    "print (b)"
   ]
  },
  {
   "cell_type": "code",
   "execution_count": null,
   "metadata": {
    "id": "VkzHihoK1p7J"
   },
   "outputs": [],
   "source": [
    "# Функция \"zip\"\n",
    "\n",
    "a = [1,2,3]\n",
    "b = [4,5,6]\n",
    "c = [7,8]\n",
    "res = list(zip(a, b, c))\n",
    "\n",
    "print (res)"
   ]
  },
  {
   "cell_type": "markdown",
   "metadata": {
    "id": "ZwCVw1SO1p7J"
   },
   "source": [
    "# NumPy"
   ]
  },
  {
   "cell_type": "code",
   "execution_count": null,
   "metadata": {
    "id": "oWndoxGZ1p7K"
   },
   "outputs": [],
   "source": [
    "# Импорт библиотеки\n",
    "\n",
    "import numpy as np"
   ]
  },
  {
   "cell_type": "code",
   "execution_count": null,
   "metadata": {
    "colab": {
     "base_uri": "https://localhost:8080/"
    },
    "id": "NAllQl7c1p7K",
    "outputId": "77d1c583-84d8-4eb4-b89c-add72669265a"
   },
   "outputs": [
    {
     "name": "stdout",
     "output_type": "stream",
     "text": [
      "[1 2 3 4]\n"
     ]
    }
   ],
   "source": [
    "# Инициализация массива из списка\n",
    "\n",
    "a = np.array([1,2,3,4], dtype = np.int64)\n",
    "\n",
    "print(a)"
   ]
  },
  {
   "cell_type": "code",
   "execution_count": null,
   "metadata": {
    "colab": {
     "base_uri": "https://localhost:8080/"
    },
    "id": "xo7hwR3J1p7K",
    "outputId": "fffb6a38-01e9-43ad-d5f3-9e3b3246b360"
   },
   "outputs": [
    {
     "name": "stdout",
     "output_type": "stream",
     "text": [
      "[[[-0.45979579 -0.74797994  0.15647125]\n",
      "  [-0.7411047   0.67446259  0.67181401]\n",
      "  [-0.40098808  0.1646958  -0.94363421]]\n",
      "\n",
      " [[ 0.01530759  0.13266941 -0.70967876]\n",
      "  [-2.28929287 -1.35274025  0.27837464]\n",
      "  [ 1.58741634  0.10637722  1.73888466]]\n",
      "\n",
      " [[-0.62763664  0.20354268  0.6797902 ]\n",
      "  [ 0.94318851  0.40818672 -0.06212155]\n",
      "  [ 0.21375671  0.24253211  0.06623316]]]\n"
     ]
    }
   ],
   "source": [
    "# Инициализация случайного массива\n",
    "\n",
    "a = np.random.randn(3,3,3)\n",
    "\n",
    "print(a)"
   ]
  },
  {
   "cell_type": "code",
   "execution_count": null,
   "metadata": {
    "colab": {
     "base_uri": "https://localhost:8080/"
    },
    "id": "uWXaEJof1p7K",
    "outputId": "56a0b72f-0b4d-4ea2-9bdb-6b8b88a9b24f"
   },
   "outputs": [
    {
     "name": "stdout",
     "output_type": "stream",
     "text": [
      "(3, 3, 3)\n",
      "3\n"
     ]
    }
   ],
   "source": [
    "# Определение размера\n",
    "\n",
    "print(a.shape)\n",
    "print(a.shape[0])"
   ]
  },
  {
   "cell_type": "code",
   "execution_count": null,
   "metadata": {
    "colab": {
     "base_uri": "https://localhost:8080/"
    },
    "id": "D12q77cB1p7K",
    "outputId": "0d67dc7e-1738-40d9-ce1a-f448781ad436"
   },
   "outputs": [
    {
     "name": "stdout",
     "output_type": "stream",
     "text": [
      "-0.0018988595949117019\n"
     ]
    }
   ],
   "source": [
    "# Операции над массива\n",
    "\n",
    "print(a.mean())"
   ]
  },
  {
   "cell_type": "code",
   "execution_count": null,
   "metadata": {
    "colab": {
     "base_uri": "https://localhost:8080/"
    },
    "id": "5H2chh4DrPhJ",
    "outputId": "e59a05b1-457a-411d-859b-93e7385fe8db"
   },
   "outputs": [
    {
     "name": "stdout",
     "output_type": "stream",
     "text": [
      "-0.05126920906261595\n"
     ]
    }
   ],
   "source": [
    "# Операции над массива\n",
    "\n",
    "print(a.sum())"
   ]
  },
  {
   "cell_type": "code",
   "execution_count": null,
   "metadata": {
    "colab": {
     "base_uri": "https://localhost:8080/"
    },
    "id": "KVsXsDrV1p7K",
    "outputId": "d2fc92de-c22f-4de6-9998-866337bed41d"
   },
   "outputs": [
    {
     "name": "stdout",
     "output_type": "stream",
     "text": [
      "(1, 3, 3)\n"
     ]
    }
   ],
   "source": [
    "# Срезы массивов\n",
    "\n",
    "print(a[:-2].shape)"
   ]
  },
  {
   "cell_type": "code",
   "execution_count": null,
   "metadata": {
    "colab": {
     "base_uri": "https://localhost:8080/"
    },
    "id": "GQTeyaBF1p7K",
    "outputId": "0ee64c82-9355-488c-82ce-3ce6fa398f1d"
   },
   "outputs": [
    {
     "name": "stdout",
     "output_type": "stream",
     "text": [
      "a -\n",
      "[[ 0.09264271 -0.30621093]\n",
      " [-0.3493972  -0.97759101]]\n",
      "b -\n",
      "[[-2.10173466  0.70671459]\n",
      " [-1.25825875 -0.50264561]]\n",
      "c -\n",
      "[[-2.00909196  0.40050367]\n",
      " [-1.60765595 -1.48023662]]\n"
     ]
    }
   ],
   "source": [
    "# Операции с несколькими массива \n",
    "\n",
    "a = np.random.randn(2,2)\n",
    "b = np.random.randn(2,2)\n",
    "c = np.add(a, b)\n",
    "\n",
    "print(f'a -\\n{a}')\n",
    "print(f'b -\\n{b}')\n",
    "print(f'c -\\n{c}')"
   ]
  },
  {
   "cell_type": "code",
   "execution_count": null,
   "metadata": {
    "colab": {
     "base_uri": "https://localhost:8080/"
    },
    "id": "xwtAfylI1p7L",
    "outputId": "822fde66-30a2-4ed5-d397-46c0645098c1"
   },
   "outputs": [
    {
     "name": "stdout",
     "output_type": "stream",
     "text": [
      "a -\n",
      "[[-0.90038004  1.71360587 -0.61993409]\n",
      " [ 0.96550922 -0.90847843  1.7150306 ]\n",
      " [-1.15385617 -0.7160675   0.49587538]\n",
      " [-1.4359739  -0.72211341  2.34155379]\n",
      " [ 0.65318617  1.23262527 -1.21775985]]\n",
      "b -\n",
      "[[-0.90034922 -0.41095319 -0.34056856 -0.17289463]\n",
      " [ 0.463506    0.44167878  0.36432391 -1.4383194 ]\n",
      " [ 0.98624743  0.264858   -1.13396676  0.25236367]]\n",
      "c -\n",
      "[[ 0.99351468  0.96268289  1.63393339 -2.46549052]\n",
      " [ 0.40106383 -0.34379515 -2.6045902   1.57256219]\n",
      " [ 1.19602774  0.28924562 -0.43021959  1.35457024]\n",
      " [ 3.26752548  0.89135514 -2.42927979  1.877825  ]\n",
      " [-1.21777897 -0.04653796  1.60751939 -2.19315956]]\n",
      "size of c -\n",
      "(5, 4)\n"
     ]
    }
   ],
   "source": [
    "# Матричное умножение\n",
    "\n",
    "a = np.random.randn(5,3)\n",
    "b = np.random.randn(3,4)\n",
    "\n",
    "c = np.matmul(a, b)\n",
    "\n",
    "print(f'a -\\n{a}')\n",
    "print(f'b -\\n{b}')\n",
    "print(f'c -\\n{c}')\n",
    "print(f'size of c -\\n{c.shape}')"
   ]
  },
  {
   "cell_type": "code",
   "execution_count": null,
   "metadata": {
    "colab": {
     "base_uri": "https://localhost:8080/"
    },
    "id": "POpWlQRmkZVp",
    "outputId": "1dfdcd28-c02b-49fa-c9f7-d806b7e39eda"
   },
   "outputs": [
    {
     "name": "stdout",
     "output_type": "stream",
     "text": [
      "[[ 0.26661714  0.10629815 -1.33843204]\n",
      " [ 2.17750948 -0.91768845  0.52750401]\n",
      " [-1.32710539  0.47533374  0.90137523]\n",
      " [ 1.03113226 -1.91718781  0.61839656]\n",
      " [-1.53110712 -0.55814346 -0.76122629]\n",
      " [-0.16716784  0.60247656 -0.75426315]]\n",
      "\n",
      "[ True  True False False  True False]\n",
      "\n",
      "[[ 0.26661714  0.10629815 -1.33843204]\n",
      " [ 2.17750948 -0.91768845  0.52750401]\n",
      " [-1.53110712 -0.55814346 -0.76122629]]\n",
      "\n",
      "[ 0.10629815 -0.91768845 -0.55814346]\n"
     ]
    }
   ],
   "source": [
    "# Булева индексация\n",
    "\n",
    "a = np.array([0, 0, 1, 2, 0, 1])\n",
    "b = np.random.randn(6, 3)\n",
    "print(b)\n",
    "print()\n",
    "print(a == 0)\n",
    "print()\n",
    "print(b[a == 0])\n",
    "print()\n",
    "print(b[a == 0, 1])"
   ]
  },
  {
   "cell_type": "code",
   "execution_count": null,
   "metadata": {
    "colab": {
     "base_uri": "https://localhost:8080/"
    },
    "id": "bgQ3jKXZky5s",
    "outputId": "2707b238-2417-43ec-e581-038da89db79a"
   },
   "outputs": [
    {
     "data": {
      "text/plain": [
       "3"
      ]
     },
     "execution_count": 60,
     "metadata": {},
     "output_type": "execute_result"
    }
   ],
   "source": [
    "# Расчет количества определенных элементов\n",
    "\n",
    "(a == 0).sum()"
   ]
  },
  {
   "cell_type": "markdown",
   "metadata": {
    "id": "1ziivfY8j_39"
   },
   "source": [
    "#MatplotLib"
   ]
  },
  {
   "cell_type": "code",
   "execution_count": null,
   "metadata": {
    "colab": {
     "base_uri": "https://localhost:8080/",
     "height": 396
    },
    "id": "39FpgjJkBGw_",
    "outputId": "a2e0109f-c013-43e5-e3b1-ded55896af64"
   },
   "outputs": [
    {
     "data": {
      "image/png": "[encoded data removed]",
      "text/plain": [
       "<Figure size 1440x720 with 1 Axes>"
      ]
     },
     "metadata": {
      "needs_background": "light"
     },
     "output_type": "display_data"
    }
   ],
   "source": [
    "# График кривой\n",
    "\n",
    "from matplotlib import pyplot as plt\n",
    "\n",
    "x = np.linspace(0, 10, 50)\n",
    "y1 = np.random.randn(50)\n",
    "y2 = np.random.randn(50)\n",
    "\n",
    "fig, ax = plt.subplots(figsize=(20, 10))\n",
    "\n",
    "ax.plot(x, y1, c='r')\n",
    "ax.plot(x, y2, c='g')\n",
    "ax.set_title('Ttile')\n",
    "ax.set_xlabel('x label')\n",
    "ax.set_ylabel('y label')\n",
    "ax.legend(['y1', 'y2'])\n",
    "plt.show()"
   ]
  },
  {
   "cell_type": "code",
   "execution_count": null,
   "metadata": {
    "colab": {
     "base_uri": "https://localhost:8080/",
     "height": 621
    },
    "id": "nDPJz21BCMpx",
    "outputId": "049731a1-76e5-46b7-d18d-a34176bdd6e0"
   },
   "outputs": [
    {
     "data": {
      "image/png": "[encoded data removed]",
      "text/plain": [
       "<Figure size 720x720 with 1 Axes>"
      ]
     },
     "metadata": {
      "needs_background": "light"
     },
     "output_type": "display_data"
    }
   ],
   "source": [
    "# График разброса\n",
    "\n",
    "x1 = np.random.randn(50)\n",
    "y1 = np.random.randn(50)\n",
    "\n",
    "x2 = np.random.randn(50) + 5\n",
    "y2 = np.random.randn(50) - 5\n",
    "\n",
    "fig, ax = plt.subplots(figsize=(10, 10))\n",
    "\n",
    "ax.scatter(x1, y1, c='r')\n",
    "ax.scatter(x2, y2, c='g')\n",
    "ax.set_title('Ttile')\n",
    "ax.set_xlabel('x label')\n",
    "ax.set_ylabel('y label')\n",
    "ax.legend(['y1', 'y2'])\n",
    "plt.show()"
   ]
  },
  {
   "cell_type": "code",
   "execution_count": null,
   "metadata": {
    "colab": {
     "base_uri": "https://localhost:8080/",
     "height": 621
    },
    "id": "PsQ7jJNQDzG3",
    "outputId": "0c031628-b79a-4f49-c47f-2daca6c1bd0c"
   },
   "outputs": [
    {
     "data": {
      "image/png": "[encoded data removed]",
      "text/plain": [
       "<Figure size 720x720 with 4 Axes>"
      ]
     },
     "metadata": {
      "needs_background": "light"
     },
     "output_type": "display_data"
    }
   ],
   "source": [
    "# Вывод несколько графиков\n",
    "\n",
    "fig, ax = plt.subplots(figsize=(10, 10), ncols=2, nrows=2)\n",
    "\n",
    "for i in range(2):\n",
    "    for j in range(2):\n",
    "        x = np.random.randn(50)\n",
    "        y = np.random.randn(50)\n",
    "        ax[i, j].scatter(x, y, c='r')\n",
    "        ax[i, j].set_title(f'row {i}, col {j}')\n",
    "        ax[i, j].set_xlabel('x label')\n",
    "        ax[i, j].set_ylabel('y label')\n",
    "        ax[i, j].legend(['y1', 'y2'])\n",
    "\n",
    "plt.subplots_adjust(left=None, bottom=None, right=None, top=None, wspace=None, hspace=None)\n",
    "\n",
    "# left float, optional\n",
    "# The position of the left edge of the subplots, as a fraction of the figure width.\n",
    "\n",
    "# right float, optional\n",
    "# The position of the right edge of the subplots, as a fraction of the figure width.\n",
    "\n",
    "# bottom float, optional\n",
    "# The position of the bottom edge of the subplots, as a fraction of the figure height.\n",
    "\n",
    "# top float, optional\n",
    "# The position of the top edge of the subplots, as a fraction of the figure height.\n",
    "\n",
    "# wspace float, optional\n",
    "# The width of the padding between subplots, as a fraction of the average Axes width.\n",
    "\n",
    "# hspace float, optional\n",
    "# The height of the padding between subplots, as a fraction of the average Axes height.\n",
    "\n",
    "plt.show()"
   ]
  },
  {
   "cell_type": "code",
   "execution_count": null,
   "metadata": {
    "colab": {
     "base_uri": "https://localhost:8080/",
     "height": 350
    },
    "id": "zTDPxj6gVjNq",
    "outputId": "907634f9-4f67-4b1d-a39b-29526ac3d1bc"
   },
   "outputs": [
    {
     "data": {
      "image/png": "[encoded data removed]",
      "text/plain": [
       "<Figure size 720x360 with 2 Axes>"
      ]
     },
     "metadata": {
      "needs_background": "light"
     },
     "output_type": "display_data"
    }
   ],
   "source": [
    "# Вывод несколько графиков\n",
    "\n",
    "fig, ax = plt.subplots(figsize=(10, 5), ncols=2)\n",
    "\n",
    "for i in range(2):\n",
    "        x = np.random.randn(50)\n",
    "        y = np.random.randn(50)\n",
    "        ax[i].scatter(x, y, c='r')\n",
    "        ax[i].set_title(f'row {i}, col {j}')\n",
    "        ax[i].set_xlabel('x label')\n",
    "        ax[i].set_ylabel('y label')\n",
    "        ax[i].legend(['y1', 'y2'])\n",
    "\n",
    "plt.subplots_adjust(left=None, bottom=None, right=None, top=None, wspace=None, hspace=None)\n",
    "\n",
    "# left float, optional\n",
    "# The position of the left edge of the subplots, as a fraction of the figure width.\n",
    "\n",
    "# right float, optional\n",
    "# The position of the right edge of the subplots, as a fraction of the figure width.\n",
    "\n",
    "# bottom float, optional\n",
    "# The position of the bottom edge of the subplots, as a fraction of the figure height.\n",
    "\n",
    "# top float, optional\n",
    "# The position of the top edge of the subplots, as a fraction of the figure height.\n",
    "\n",
    "# wspace float, optional\n",
    "# The width of the padding between subplots, as a fraction of the average Axes width.\n",
    "\n",
    "# hspace float, optional\n",
    "# The height of the padding between subplots, as a fraction of the average Axes height.\n",
    "\n",
    "plt.show()"
   ]
  }
 ],
 "metadata": {
  "colab": {
   "collapsed_sections": [],
   "name": "python_get_started.ipynb",
   "provenance": []
  },
  "kernelspec": {
   "display_name": "Python 3",
   "language": "python",
   "name": "python3"
  },
  "language_info": {
   "codemirror_mode": {
    "name": "ipython",
    "version": 3
   },
   "file_extension": ".py",
   "mimetype": "text/x-python",
   "name": "python",
   "nbconvert_exporter": "python",
   "pygments_lexer": "ipython3",
   "version": "3.8.8"
  },
  "varInspector": {
   "cols": {
    "lenName": 16,
    "lenType": 16,
    "lenVar": 40
   },
   "kernels_config": {
    "python": {
     "delete_cmd_postfix": "",
     "delete_cmd_prefix": "del ",
     "library": "var_list.py",
     "varRefreshCmd": "print(var_dic_list())"
    },
    "r": {
     "delete_cmd_postfix": ") ",
     "delete_cmd_prefix": "rm(",
     "library": "var_list.r",
     "varRefreshCmd": "cat(var_dic_list()) "
    }
   },
   "types_to_exclude": [
    "module",
    "function",
    "builtin_function_or_method",
    "instance",
    "_Feature"
   ],
   "window_display": false
  }
 },
 "nbformat": 4,
 "nbformat_minor": 1
}
