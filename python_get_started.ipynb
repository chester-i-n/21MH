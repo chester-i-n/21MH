{
 "cells": [
  {
   "cell_type": "markdown",
   "metadata": {
    "id": "xMIElUGy1p6_"
   },
   "source": [
    "# Типы данных и операторы"
   ]
  },
  {
   "cell_type": "code",
   "execution_count": 1,
   "metadata": {
    "colab": {
     "base_uri": "https://localhost:8080/"
    },
    "id": "axaIYsvG1p7A",
    "outputId": "5c993510-9ec6-4856-c9bf-ca78f8dd9bcf"
   },
   "outputs": [
    {
     "name": "stdout",
     "output_type": "stream",
     "text": [
      "'Hello world!' - <class 'str'>\n",
      "4 - <class 'int'>\n",
      "4. - <class 'float'>\n",
      "True - <class 'bool'>\n",
      "None - <class 'NoneType'>\n"
     ]
    }
   ],
   "source": [
    "# Типы данных\n",
    "\n",
    "print(f'\\'Hello world!\\' - {type(\"Hello world!\")}')\n",
    "print(f'4 - {type(4)}')\n",
    "print(f'4. - {type(4.)}')\n",
    "print(f'True - {type(True)}')\n",
    "print(f'None - {type(None)}')"
   ]
  },
  {
   "cell_type": "code",
   "execution_count": 2,
   "metadata": {
    "colab": {
     "base_uri": "https://localhost:8080/"
    },
    "id": "PtXSyOPC1p7A",
    "outputId": "1fd0cfdd-27fc-40bb-bd1b-d705e2eb8952"
   },
   "outputs": [
    {
     "name": "stdout",
     "output_type": "stream",
     "text": [
      "2 + 3 = 5\n",
      "5.5 - 2 = 3.5\n",
      "20 * 3 = 60\n",
      "20 / 3 = 6.666666666666667\n",
      "12 // 5 = 2\n",
      "12 % 5 = 2\n",
      "2 ** 2 = 4\n",
      "4 ** 0.5 = 2.0\n"
     ]
    }
   ],
   "source": [
    "# Арифметические операторы\n",
    "\n",
    "print(f'2 + 3 = {2 + 3}')\n",
    "print(f'5.5 - 2 = {5.5 - 2}')\n",
    "print(f'20 * 3 = {20 * 3}')\n",
    "print(f'20 / 3 = {20 / 3}')\n",
    "print(f'12 // 5 = {12 // 5}')\n",
    "print(f'12 % 5 = {12 % 5}')\n",
    "print(f'2 ** 2 = {2 ** 2}')\n",
    "print(f'4 ** 0.5 = {4 ** 0.5}')"
   ]
  },
  {
   "cell_type": "code",
   "execution_count": 3,
   "metadata": {
    "colab": {
     "base_uri": "https://localhost:8080/"
    },
    "id": "-_6I_OeQ1p7B",
    "outputId": "f8d08f75-b38a-470d-ddae-2f5ac804b573"
   },
   "outputs": [
    {
     "name": "stdout",
     "output_type": "stream",
     "text": [
      "5 > 2 - True\n",
      "5 <= 2 - False\n",
      "5 == 5 - True\n"
     ]
    }
   ],
   "source": [
    "# Операторы сравнения\n",
    "\n",
    "print(f'5 > 2 - {5 > 2}')\n",
    "print(f'5 <= 2 - {5 <= 2}')\n",
    "print(f'5 == 5 - {5 == 5}')"
   ]
  },
  {
   "cell_type": "code",
   "execution_count": 4,
   "metadata": {
    "colab": {
     "base_uri": "https://localhost:8080/"
    },
    "id": "tK92pbCF1p7B",
    "outputId": "bed7f61e-dc1b-40b3-8cfb-c47a10af9aa1"
   },
   "outputs": [
    {
     "name": "stdout",
     "output_type": "stream",
     "text": [
      "5 == 5 and 5 <= 2 - False\n",
      "5 == 5 or 5 <= 2 - True\n",
      "not 5 == 5 - False\n"
     ]
    }
   ],
   "source": [
    "# Логические операторы\n",
    "\n",
    "print(f'5 == 5 and 5 <= 2 - {5 == 5 and 5 <= 2}')\n",
    "print(f'5 == 5 or 5 <= 2 - {5 == 5 or 5 <= 2}')\n",
    "print(f'not 5 == 5 - {not 5 == 5}')"
   ]
  },
  {
   "cell_type": "code",
   "execution_count": 5,
   "metadata": {
    "colab": {
     "base_uri": "https://localhost:8080/"
    },
    "id": "x24QnyLK1p7C",
    "outputId": "3b7ee321-112c-4ed6-92c5-e97a9d664b10"
   },
   "outputs": [
    {
     "name": "stdout",
     "output_type": "stream",
     "text": [
      "int(5.6) - 5\n",
      "float('6.5') - 6.5\n",
      "bool(10) - True\n"
     ]
    }
   ],
   "source": [
    "# Приведение типов\n",
    "\n",
    "print(f'int(5.6) - {int(5.6)}')\n",
    "print(f'float(\\'6.5\\') - {float(\"6.5\")}')\n",
    "print(f'bool(10) - {bool(10)}')"
   ]
  },
  {
   "cell_type": "markdown",
   "metadata": {
    "id": "ylR0s8rdtf6P"
   },
   "source": [
    " # Переменные"
   ]
  },
  {
   "cell_type": "code",
   "execution_count": 6,
   "metadata": {
    "colab": {
     "base_uri": "https://localhost:8080/"
    },
    "id": "skYbtyoztlZJ",
    "outputId": "38635a4f-4f0d-415e-aab4-195e4dc4f3d8"
   },
   "outputs": [
    {
     "name": "stdout",
     "output_type": "stream",
     "text": [
      "True\n"
     ]
    }
   ],
   "source": [
    "a = 3.3\n",
    "b = a\n",
    "\n",
    "print(a is b)"
   ]
  },
  {
   "cell_type": "code",
   "execution_count": 7,
   "metadata": {
    "colab": {
     "base_uri": "https://localhost:8080/"
    },
    "id": "DQD0HdqjufiG",
    "outputId": "218172f4-975e-4ada-8d41-7608692f9704"
   },
   "outputs": [
    {
     "name": "stdout",
     "output_type": "stream",
     "text": [
      "False\n"
     ]
    }
   ],
   "source": [
    "b = 4\n",
    "\n",
    "print(a is b)"
   ]
  },
  {
   "cell_type": "code",
   "execution_count": 8,
   "metadata": {
    "colab": {
     "base_uri": "https://localhost:8080/"
    },
    "id": "ZPYpxvpLuXFo",
    "outputId": "d596d600-ecf6-4c60-f66e-b8def015ecbb"
   },
   "outputs": [
    {
     "name": "stdout",
     "output_type": "stream",
     "text": [
      "False\n"
     ]
    }
   ],
   "source": [
    "a = 3.3\n",
    "b = 3.3\n",
    "\n",
    "print(a is b)"
   ]
  },
  {
   "cell_type": "code",
   "execution_count": 9,
   "metadata": {},
   "outputs": [
    {
     "name": "stdout",
     "output_type": "stream",
     "text": [
      "5 2\n"
     ]
    }
   ],
   "source": [
    "# Групповое присваивание\n",
    "\n",
    "a = 2\n",
    "b = 5\n",
    "a, b = b, a\n",
    "\n",
    "print(a, b)"
   ]
  },
  {
   "cell_type": "markdown",
   "metadata": {
    "id": "zupcZkKm1p7C"
   },
   "source": [
    "# Функции и условия"
   ]
  },
  {
   "cell_type": "code",
   "execution_count": 10,
   "metadata": {
    "colab": {
     "base_uri": "https://localhost:8080/"
    },
    "id": "u5h1G5c71p7D",
    "outputId": "271728eb-cf80-4ed7-945e-36aaf33142c6"
   },
   "outputs": [
    {
     "name": "stdout",
     "output_type": "stream",
     "text": [
      "6.5\n"
     ]
    }
   ],
   "source": [
    "def summ(a, b):\n",
    "    return a + b\n",
    "\n",
    "print(summ(1, 5.5))"
   ]
  },
  {
   "cell_type": "code",
   "execution_count": 11,
   "metadata": {
    "colab": {
     "base_uri": "https://localhost:8080/"
    },
    "id": "IVTpJK7h1p7D",
    "outputId": "49c6e58e-0345-4dc0-a3cc-a64c27da2fd1"
   },
   "outputs": [
    {
     "name": "stdout",
     "output_type": "stream",
     "text": [
      "7\n"
     ]
    }
   ],
   "source": [
    "def maximum(a, b):\n",
    "    if a > b:\n",
    "        return a\n",
    "    return b\n",
    "\n",
    "print(maximum(5, 7))"
   ]
  },
  {
   "cell_type": "code",
   "execution_count": 12,
   "metadata": {
    "colab": {
     "base_uri": "https://localhost:8080/"
    },
    "id": "j4L_t_Yp1p7D",
    "outputId": "e1ddcb4b-2f25-4cbd-fd1f-01525efd1f4d"
   },
   "outputs": [
    {
     "name": "stdout",
     "output_type": "stream",
     "text": [
      "adult\n"
     ]
    }
   ],
   "source": [
    "def how_old(age):\n",
    "    if age < 18:\n",
    "        print('young')\n",
    "    elif age < 70:\n",
    "        print('adult')\n",
    "    else:\n",
    "        print('old')\n",
    "\n",
    "how_old(45)"
   ]
  },
  {
   "cell_type": "code",
   "execution_count": 13,
   "metadata": {
    "colab": {
     "base_uri": "https://localhost:8080/"
    },
    "id": "LxxFfm021p7E",
    "outputId": "3529984a-7db2-4161-9b3c-c53e77ab8161"
   },
   "outputs": [
    {
     "name": "stdout",
     "output_type": "stream",
     "text": [
      "5\n"
     ]
    }
   ],
   "source": [
    "a = 5\n",
    "b = a if a < 10 else 10\n",
    "\n",
    "print(b)"
   ]
  },
  {
   "cell_type": "markdown",
   "metadata": {},
   "source": [
    "# Ввод данных с клавиатуры"
   ]
  },
  {
   "cell_type": "code",
   "execution_count": 14,
   "metadata": {},
   "outputs": [
    {
     "name": "stdout",
     "output_type": "stream",
     "text": [
      "21\n",
      "<class 'str'>\n",
      "21\n"
     ]
    }
   ],
   "source": [
    "# Ввод данных с клавиатуры\n",
    "a = input()\n",
    "print(type(a))\n",
    "print(a)"
   ]
  },
  {
   "cell_type": "markdown",
   "metadata": {
    "id": "Qvr32fW21p7E"
   },
   "source": [
    "# Lists"
   ]
  },
  {
   "cell_type": "code",
   "execution_count": 15,
   "metadata": {
    "_cell_guid": "b1076dfc-b9ad-4769-8c92-a6c4dae69d19",
    "_uuid": "8f2839f25d086af736a60e9eeb907d3b93b6e0e5",
    "colab": {
     "base_uri": "https://localhost:8080/"
    },
    "id": "KHAbM7Zt1p7E",
    "outputId": "20b512dc-a74b-4e18-ffca-7da5d1d2002b"
   },
   "outputs": [
    {
     "name": "stdout",
     "output_type": "stream",
     "text": [
      "[5, 2.1, 0, False, [1, 2, 3]], len: 5\n"
     ]
    }
   ],
   "source": [
    "# Инициализация\n",
    "\n",
    "a = []\n",
    "a = list()\n",
    "a = [5, 2.1, 0, False, [1, 2, 3]]\n",
    "\n",
    "print('{}, len: {}'.format(a, len(a)))"
   ]
  },
  {
   "cell_type": "code",
   "execution_count": 16,
   "metadata": {
    "colab": {
     "base_uri": "https://localhost:8080/"
    },
    "id": "K4aYb5rQO1Pz",
    "outputId": "ac6c24c6-e2fc-4ffe-d7e4-1d3725aa9f11"
   },
   "outputs": [
    {
     "name": "stdout",
     "output_type": "stream",
     "text": [
      "a[0] - 5, a[-2] - False\n"
     ]
    }
   ],
   "source": [
    "# Индексация\n",
    "\n",
    "print('a[0] - {}, a[-2] - {}'.format(a[0], a[-2]))"
   ]
  },
  {
   "cell_type": "code",
   "execution_count": 17,
   "metadata": {
    "colab": {
     "base_uri": "https://localhost:8080/"
    },
    "id": "oYeI1gYu1p7E",
    "outputId": "6b0a3913-219b-4725-b515-44c174cb8988"
   },
   "outputs": [
    {
     "name": "stdout",
     "output_type": "stream",
     "text": [
      "a: [0, 1, 2, 3, 4, 5]\n",
      "\n",
      "a[2:5]: [2, 3, 4]\n",
      "\n",
      "a[5:2]: []\n",
      "\n",
      "a[5:2:-1]: [5, 4, 3]\n",
      "\n",
      "a[:3]: [0, 1, 2]\n",
      "\n",
      "a[2:]: [2, 3, 4, 5]\n",
      "\n"
     ]
    }
   ],
   "source": [
    "# Срезы\n",
    "\n",
    "a = [0, 1, 2, 3, 4, 5]\n",
    "\n",
    "print('a: {}\\n'.format(a))\n",
    "\n",
    "print('a[2:5]: {}\\n'.format(a[2:5]))\n",
    "print('a[5:2]: {}\\n'.format(a[5:2]))\n",
    "print('a[5:2:-1]: {}\\n'.format(a[5:2:-1]))\n",
    "print('a[:3]: {}\\n'.format(a[:3]))\n",
    "print('a[2:]: {}\\n'.format(a[2:]))"
   ]
  },
  {
   "cell_type": "code",
   "execution_count": 18,
   "metadata": {
    "colab": {
     "base_uri": "https://localhost:8080/"
    },
    "id": "hwH0HW1l1p7F",
    "outputId": "4d1e8a24-9fdc-466f-d6d6-16cf348e1fec"
   },
   "outputs": [
    {
     "name": "stdout",
     "output_type": "stream",
     "text": [
      "a: [0, 1, 2, 3, 4, 5]\n",
      "\n",
      "a[-5:-2]: [1, 2, 3]\n",
      "\n",
      "a[-5:-2:-1]: []\n",
      "\n",
      "a[::-1]: [5, 4, 3, 2, 1, 0]\n",
      "\n"
     ]
    }
   ],
   "source": [
    "print('a: {}\\n'.format(a))\n",
    "print('a[-5:-2]: {}\\n'.format(a[-5:-2]))\n",
    "print('a[-5:-2:-1]: {}\\n'.format(a[-5:-2:-1]))\n",
    "print('a[::-1]: {}\\n'.format(a[::-1]))"
   ]
  },
  {
   "cell_type": "code",
   "execution_count": 19,
   "metadata": {},
   "outputs": [
    {
     "name": "stdout",
     "output_type": "stream",
     "text": [
      "[0, 1, 2, 3, 4, 5] \n",
      "\n",
      "[0, 1, 199, 3, 4, 5] \n",
      "\n",
      "[0, 1, 199, 3, 1, 5] \n",
      "\n"
     ]
    }
   ],
   "source": [
    "# Присваивание значений элементам\n",
    "a = [0, 1, 2, 3, 4, 5]\n",
    "\n",
    "print(a, '\\n')\n",
    "\n",
    "a[2] = 199\n",
    "\n",
    "print(a, '\\n')\n",
    "\n",
    "a[-2] = 1\n",
    "\n",
    "print(a, '\\n')"
   ]
  },
  {
   "cell_type": "code",
   "execution_count": 20,
   "metadata": {
    "colab": {
     "base_uri": "https://localhost:8080/"
    },
    "id": "ozYhKzxm1p7F",
    "outputId": "e5d0bab5-e706-4374-88ff-62fb06b515bf"
   },
   "outputs": [
    {
     "name": "stdout",
     "output_type": "stream",
     "text": [
      "[1, 4, 3]\n",
      "[1, 4, 3]\n"
     ]
    }
   ],
   "source": [
    "# Неправильное копирование списка\n",
    "\n",
    "a = [1,2,3]\n",
    "b = a\n",
    "b[1] = 4\n",
    "\n",
    "print(a)\n",
    "print(b)"
   ]
  },
  {
   "cell_type": "code",
   "execution_count": 21,
   "metadata": {
    "colab": {
     "base_uri": "https://localhost:8080/"
    },
    "id": "3A6-ZGjY1p7F",
    "outputId": "dbfc1c4a-404a-4527-ad9b-ea7f12db0831"
   },
   "outputs": [
    {
     "name": "stdout",
     "output_type": "stream",
     "text": [
      "[1, 2, 3]\n",
      "[1, 4, 3]\n"
     ]
    }
   ],
   "source": [
    "# Правильное копирование списка\n",
    "\n",
    "a = [1,2,3]\n",
    "b = a[:]\n",
    "b[1] = 4\n",
    "\n",
    "print(a)\n",
    "print(b)"
   ]
  },
  {
   "cell_type": "code",
   "execution_count": 22,
   "metadata": {
    "colab": {
     "base_uri": "https://localhost:8080/"
    },
    "id": "MgeWLFhW1p7F",
    "outputId": "d766b914-3c9f-41d1-99ef-d16ba41bba95"
   },
   "outputs": [
    {
     "name": "stdout",
     "output_type": "stream",
     "text": [
      "[1, 2, 3, 4]\n",
      "[1, 3, 4]\n"
     ]
    }
   ],
   "source": [
    "# Методы для работы со списками\n",
    "\n",
    "a = [1,2,3]\n",
    "a.append(4)\n",
    "\n",
    "print(a)\n",
    "\n",
    "a = [3, 4, 1]\n",
    "a.sort()\n",
    "\n",
    "print(a)"
   ]
  },
  {
   "cell_type": "markdown",
   "metadata": {
    "id": "6VXQPqqU1p7G"
   },
   "source": [
    "# Циклы"
   ]
  },
  {
   "cell_type": "code",
   "execution_count": 23,
   "metadata": {
    "colab": {
     "base_uri": "https://localhost:8080/"
    },
    "id": "fYB_kXT71p7G",
    "outputId": "78daef82-faf2-459f-9c4f-ed6a25f4052d"
   },
   "outputs": [
    {
     "name": "stdout",
     "output_type": "stream",
     "text": [
      "1\n",
      "2\n",
      "3\n"
     ]
    }
   ],
   "source": [
    "for i in [1,2,3]:\n",
    "    print(i)"
   ]
  },
  {
   "cell_type": "code",
   "execution_count": 24,
   "metadata": {},
   "outputs": [
    {
     "name": "stdout",
     "output_type": "stream",
     "text": [
      "5\n"
     ]
    }
   ],
   "source": [
    "# Цикл while\n",
    "\n",
    "a = 0\n",
    "\n",
    "while a < 5:\n",
    "    a += 1\n",
    "    \n",
    "print(a)"
   ]
  },
  {
   "cell_type": "code",
   "execution_count": 25,
   "metadata": {},
   "outputs": [
    {
     "name": "stdout",
     "output_type": "stream",
     "text": [
      "11\n"
     ]
    }
   ],
   "source": [
    "# Выход из цикла\n",
    "\n",
    "a = 0\n",
    "\n",
    "while True:\n",
    "    a += 1\n",
    "    if a > 10:\n",
    "        break\n",
    "    \n",
    "print(a)"
   ]
  },
  {
   "cell_type": "code",
   "execution_count": 26,
   "metadata": {
    "colab": {
     "base_uri": "https://localhost:8080/"
    },
    "id": "SivXpnyk1p7G",
    "outputId": "988dd7a8-3bfb-4a3c-a0e2-46871458e8da"
   },
   "outputs": [
    {
     "name": "stdout",
     "output_type": "stream",
     "text": [
      "2\n",
      "4\n",
      "6\n",
      "8\n"
     ]
    }
   ],
   "source": [
    "# Генератор арифметической последовательности\n",
    "\n",
    "for i in range(2, 10, 2):\n",
    "    print(i)"
   ]
  },
  {
   "cell_type": "code",
   "execution_count": 27,
   "metadata": {
    "colab": {
     "base_uri": "https://localhost:8080/"
    },
    "id": "QaO0QBgC1p7G",
    "outputId": "f1a43bc5-c02d-4462-b19a-4162c44114a8"
   },
   "outputs": [
    {
     "name": "stdout",
     "output_type": "stream",
     "text": [
      "5 2\n",
      "1 4\n",
      "2 1\n",
      "5 7\n",
      "23 6\n",
      "3 8\n"
     ]
    }
   ],
   "source": [
    "# Цикл с индекосм\n",
    "\n",
    "a = [5, 1, 2, 5, 23, 3]\n",
    "b = [2, 4, 1, 7, 6, 8]\n",
    "\n",
    "for i in range(len(a)):\n",
    "    print(a[i], b[i])"
   ]
  },
  {
   "cell_type": "code",
   "execution_count": 28,
   "metadata": {
    "colab": {
     "base_uri": "https://localhost:8080/"
    },
    "id": "acpnNuG91p7G",
    "outputId": "885f7174-f603-4b74-d2df-5fd89d3117ba"
   },
   "outputs": [
    {
     "name": "stdout",
     "output_type": "stream",
     "text": [
      "[0, 1, 2, 3, 4]\n"
     ]
    }
   ],
   "source": [
    "# Цикл для создания списка (списковые включения)\n",
    "\n",
    "a = [i for i in range(5)]\n",
    "print(a)"
   ]
  },
  {
   "cell_type": "code",
   "execution_count": 29,
   "metadata": {
    "colab": {
     "base_uri": "https://localhost:8080/"
    },
    "id": "mWz9J3dj1p7H",
    "outputId": "df3fe9d3-3a13-419a-f06d-c9e3d8425fdf"
   },
   "outputs": [
    {
     "name": "stdout",
     "output_type": "stream",
     "text": [
      "[0, 0, 0, 0, 0, 0, 0, 0]\n"
     ]
    }
   ],
   "source": [
    "# Размножение списков\n",
    "\n",
    "a = [0] * 8\n",
    "\n",
    "print(a)"
   ]
  },
  {
   "cell_type": "code",
   "execution_count": 30,
   "metadata": {
    "colab": {
     "base_uri": "https://localhost:8080/"
    },
    "id": "i17JCxIA1p7H",
    "outputId": "0ae4273e-735f-4708-bf8b-24debf8cdc77"
   },
   "outputs": [
    {
     "name": "stdout",
     "output_type": "stream",
     "text": [
      "[0, 0, 2, 0, 0, 0, 0, 0]\n",
      "[0, 0, 2, 0, 0, 0, 0, 0]\n",
      "[0, 0, 2, 0, 0, 0, 0, 0]\n",
      "[0, 0, 2, 0, 0, 0, 0, 0]\n",
      "[0, 0, 2, 0, 0, 0, 0, 0]\n",
      "[0, 0, 2, 0, 0, 0, 0, 0]\n",
      "[0, 0, 2, 0, 0, 0, 0, 0]\n",
      "[0, 0, 2, 0, 0, 0, 0, 0]\n"
     ]
    }
   ],
   "source": [
    "# Неправильное заполнение двумерного списка нулями\n",
    "\n",
    "a = [[0] * 8] * 8\n",
    "a[0][2] = 2\n",
    "\n",
    "for i in a:\n",
    "    print(i)"
   ]
  },
  {
   "cell_type": "code",
   "execution_count": 31,
   "metadata": {
    "colab": {
     "base_uri": "https://localhost:8080/"
    },
    "id": "ngyyRP1d1p7H",
    "outputId": "7ca8c1ce-07b2-4af4-dfb7-cc3665af2485"
   },
   "outputs": [
    {
     "name": "stdout",
     "output_type": "stream",
     "text": [
      "[16, 16, 16, 16, 16, 16, 16, 16]\n",
      "[16, 16, 16, 16, 16, 16, 16, 16]\n",
      "[16, 16, 16, 16, 16, 16, 16, 16]\n",
      "[16, 16, 16, 16, 16, 16, 16, 16]\n",
      "[16, 16, 16, 16, 16, 16, 16, 16]\n",
      "[16, 16, 2, 16, 16, 16, 16, 16]\n",
      "[16, 16, 16, 16, 16, 16, 16, 16]\n",
      "[16, 16, 16, 16, 16, 16, 16, 16]\n"
     ]
    }
   ],
   "source": [
    "# Неправильное заполнение двумерного списка нулями\n",
    "\n",
    "a = [[16] * 8 for i in range(8)]\n",
    "a[5][2] = 2\n",
    "\n",
    "for i in a:\n",
    "    print(i)"
   ]
  },
  {
   "cell_type": "code",
   "execution_count": 32,
   "metadata": {
    "colab": {
     "base_uri": "https://localhost:8080/"
    },
    "id": "stZOXit_pE9N",
    "outputId": "6af0030b-7a26-492b-bf16-d73c401e27e0"
   },
   "outputs": [
    {
     "name": "stdout",
     "output_type": "stream",
     "text": [
      "[16, 16, 16, 16, 16, 16, 16, 16]\n",
      "[16, 16, 16, 16, 16, 16, 16, 16]\n",
      "[16, 16, 16, 16, 16, 16, 16, 16]\n",
      "[16, 16, 16, 16, 16, 16, 16, 16]\n",
      "[16, 16, 16, 16, 16, 16, 16, 16]\n",
      "[16, 16, 2, 16, 16, 16, 16, 16]\n",
      "[16, 16, 16, 16, 16, 16, 16, 16]\n",
      "[16, 16, 16, 16, 16, 16, 16, 16]\n"
     ]
    }
   ],
   "source": [
    "# Неправильное заполнение двумерного списка нулями\n",
    "\n",
    "a = [[16] * 8 for i in range(8)]\n",
    "a[-3][2] = 2\n",
    "\n",
    "for i in a:\n",
    "    print(i)"
   ]
  },
  {
   "cell_type": "code",
   "execution_count": 33,
   "metadata": {
    "colab": {
     "base_uri": "https://localhost:8080/"
    },
    "id": "UF29Clay1p7H",
    "outputId": "324cda94-6a8c-4ec0-f586-dd5a86305f19"
   },
   "outputs": [
    {
     "name": "stdout",
     "output_type": "stream",
     "text": [
      "[1, 2, 3, 1, 2, 3]\n"
     ]
    }
   ],
   "source": [
    "# Конкатенация списков\n",
    "\n",
    "a = [1,2,3] + [1,2,3]\n",
    "\n",
    "print(a)"
   ]
  },
  {
   "cell_type": "code",
   "execution_count": 34,
   "metadata": {
    "id": "e0cPXl681p7H"
   },
   "outputs": [
    {
     "name": "stdout",
     "output_type": "stream",
     "text": [
      "Num: 0, Square 0\n",
      "Num: 1, Square 1\n",
      "Num: 2, Square 4\n",
      "Num: 3, Square 9\n",
      "Num: 4, Square 16\n",
      "Num: 5, Square 25\n",
      "Num: 6, Square 36\n",
      "Num: 7, Square 49\n"
     ]
    }
   ],
   "source": [
    "# Распаковка при помощи цикла\n",
    "\n",
    "a = [[j, j ** 2] for j in range(8)]\n",
    "\n",
    "for num, sq in a:\n",
    "    print('Num: {}, Square {}'.format(num, sq))"
   ]
  },
  {
   "cell_type": "markdown",
   "metadata": {
    "id": "lhc4owzv1p7H"
   },
   "source": [
    "# Кортежи"
   ]
  },
  {
   "cell_type": "code",
   "execution_count": 35,
   "metadata": {
    "colab": {
     "base_uri": "https://localhost:8080/"
    },
    "id": "Dg8DfX511p7H",
    "outputId": "4d249b38-e878-47a3-99bb-7c94c87d9eeb"
   },
   "outputs": [
    {
     "name": "stdout",
     "output_type": "stream",
     "text": [
      "(5, 2)\n",
      "<class 'tuple'>\n",
      "2\n"
     ]
    }
   ],
   "source": [
    "# Кортежи в функциях\n",
    "\n",
    "def find_max(x):\n",
    "    ind = 0\n",
    "    maximum = x[0]\n",
    "    for i in range(1,len(x)):\n",
    "        if x[i] > maximum:\n",
    "            maximum = x[i]\n",
    "            ind = i\n",
    "    return maximum, ind\n",
    "\n",
    "out = find_max([4,3,5])\n",
    "\n",
    "print(out)\n",
    "print(type(out))\n",
    "print(out[1])"
   ]
  },
  {
   "cell_type": "code",
   "execution_count": 36,
   "metadata": {
    "colab": {
     "base_uri": "https://localhost:8080/"
    },
    "id": "TdMidygM1p7I",
    "outputId": "45473d07-35d7-43f1-d775-220d4cca897f"
   },
   "outputs": [
    {
     "name": "stdout",
     "output_type": "stream",
     "text": [
      "5 2\n"
     ]
    }
   ],
   "source": [
    "# Распаковка кортежа\n",
    "\n",
    "maximum, index = find_max([4,3,5])\n",
    "\n",
    "print(maximum, index)"
   ]
  },
  {
   "cell_type": "markdown",
   "metadata": {
    "id": "evsZOQQL1p7I"
   },
   "source": [
    "# Множества и словари"
   ]
  },
  {
   "cell_type": "code",
   "execution_count": 37,
   "metadata": {
    "colab": {
     "base_uri": "https://localhost:8080/"
    },
    "id": "jt2-Xoiq1p7I",
    "outputId": "6f3f6857-4808-4600-f3de-a1aa9492628c"
   },
   "outputs": [
    {
     "name": "stdout",
     "output_type": "stream",
     "text": [
      "1\n",
      "2\n",
      "3\n",
      "4\n",
      "5\n"
     ]
    }
   ],
   "source": [
    "# Множество\n",
    "\n",
    "a = set([2,3,2,4,2,3,1,5])\n",
    "a = {2,3,2,4,2,3,1,5}\n",
    "for i in a:\n",
    "    print(i)"
   ]
  },
  {
   "cell_type": "code",
   "execution_count": 38,
   "metadata": {
    "colab": {
     "base_uri": "https://localhost:8080/"
    },
    "id": "XnRJNMAk1p7I",
    "outputId": "4c37195d-cbec-4d07-9971-a8566002f683"
   },
   "outputs": [
    {
     "name": "stdout",
     "output_type": "stream",
     "text": [
      "one\n",
      "two\n",
      "1\n",
      "2\n",
      "one 1\n",
      "two 2\n"
     ]
    }
   ],
   "source": [
    "# Словарь\n",
    "\n",
    "a = {'one': 1, 'two': 2}\n",
    "for i in a:\n",
    "    print(i)\n",
    "for i in a:\n",
    "    print(a[i])\n",
    "for i, j in a.items():\n",
    "    print(i, j)"
   ]
  },
  {
   "cell_type": "code",
   "execution_count": 39,
   "metadata": {
    "colab": {
     "base_uri": "https://localhost:8080/"
    },
    "id": "s2rpcPVVd4bv",
    "outputId": "9435b36b-88dd-47fd-8015-522297a09b9d"
   },
   "outputs": [
    {
     "name": "stdout",
     "output_type": "stream",
     "text": [
      "2\n"
     ]
    }
   ],
   "source": [
    "# Запись данных в словарь\n",
    "\n",
    "a = set() # Множество\n",
    "a = {} # Словарь\n",
    "\n",
    "a['one'] = 1\n",
    "a['two'] = 2\n",
    "\n",
    "print(a['two'])"
   ]
  },
  {
   "cell_type": "markdown",
   "metadata": {
    "id": "ZwCVw1SO1p7J"
   },
   "source": [
    "# NumPy"
   ]
  },
  {
   "cell_type": "code",
   "execution_count": 40,
   "metadata": {
    "id": "oWndoxGZ1p7K"
   },
   "outputs": [],
   "source": [
    "# Импорт библиотеки\n",
    "\n",
    "import numpy as np"
   ]
  },
  {
   "cell_type": "code",
   "execution_count": 41,
   "metadata": {
    "colab": {
     "base_uri": "https://localhost:8080/"
    },
    "id": "NAllQl7c1p7K",
    "outputId": "77d1c583-84d8-4eb4-b89c-add72669265a"
   },
   "outputs": [
    {
     "name": "stdout",
     "output_type": "stream",
     "text": [
      "[1 2 3 4]\n"
     ]
    }
   ],
   "source": [
    "# Инициализация массива из списка\n",
    "\n",
    "a = np.array([1,2,3,4], dtype = np.int64)\n",
    "\n",
    "print(a)"
   ]
  },
  {
   "cell_type": "code",
   "execution_count": 42,
   "metadata": {
    "colab": {
     "base_uri": "https://localhost:8080/"
    },
    "id": "xo7hwR3J1p7K",
    "outputId": "fffb6a38-01e9-43ad-d5f3-9e3b3246b360"
   },
   "outputs": [
    {
     "name": "stdout",
     "output_type": "stream",
     "text": [
      "[[[-0.99286129  0.93792627 -0.40344542]\n",
      "  [-1.73648023  0.55620337  0.95882353]\n",
      "  [ 0.78539755 -0.61915669 -0.37897823]]\n",
      "\n",
      " [[-0.31381504  0.41638018 -0.55753999]\n",
      "  [-0.81080569 -2.05349457  0.57340824]\n",
      "  [-0.53999121 -0.82833573 -1.39362202]]\n",
      "\n",
      " [[-0.12086967  0.84102904 -1.43669101]\n",
      "  [ 1.39946851 -1.3705634   1.73762671]\n",
      "  [-0.13628281  1.05152237 -0.61707301]]]\n"
     ]
    }
   ],
   "source": [
    "# Инициализация случайного массива\n",
    "\n",
    "a = np.random.randn(3,3,3)\n",
    "\n",
    "print(a)"
   ]
  },
  {
   "cell_type": "code",
   "execution_count": 43,
   "metadata": {},
   "outputs": [
    {
     "name": "stdout",
     "output_type": "stream",
     "text": [
      "[[0. 0. 0. 0.]\n",
      " [0. 0. 0. 0.]\n",
      " [0. 0. 0. 0.]]\n"
     ]
    }
   ],
   "source": [
    "# Массив из нулей\n",
    "\n",
    "n=3\n",
    "m=4\n",
    "\n",
    "zeros = np.zeros((n, m))\n",
    "\n",
    "print(zeros)"
   ]
  },
  {
   "cell_type": "code",
   "execution_count": 44,
   "metadata": {},
   "outputs": [
    {
     "name": "stdout",
     "output_type": "stream",
     "text": [
      "[[1. 1. 1. 1.]\n",
      " [1. 1. 1. 1.]\n",
      " [1. 1. 1. 1.]]\n"
     ]
    }
   ],
   "source": [
    "# Массив из единиц\n",
    "\n",
    "n=3\n",
    "m=4\n",
    "\n",
    "ones = np.ones((n, m))\n",
    "\n",
    "print(ones)"
   ]
  },
  {
   "cell_type": "code",
   "execution_count": 45,
   "metadata": {
    "colab": {
     "base_uri": "https://localhost:8080/"
    },
    "id": "uWXaEJof1p7K",
    "outputId": "56a0b72f-0b4d-4ea2-9bdb-6b8b88a9b24f"
   },
   "outputs": [
    {
     "name": "stdout",
     "output_type": "stream",
     "text": [
      "(3, 3, 3)\n",
      "3\n"
     ]
    }
   ],
   "source": [
    "# Определение размера\n",
    "\n",
    "print(a.shape)\n",
    "print(a.shape[0])"
   ]
  },
  {
   "cell_type": "code",
   "execution_count": 46,
   "metadata": {},
   "outputs": [],
   "source": [
    "a = np.random.randn(8,3)"
   ]
  },
  {
   "cell_type": "code",
   "execution_count": 47,
   "metadata": {
    "colab": {
     "base_uri": "https://localhost:8080/"
    },
    "id": "D12q77cB1p7K",
    "outputId": "0d67dc7e-1738-40d9-ce1a-f448781ad436"
   },
   "outputs": [
    {
     "name": "stdout",
     "output_type": "stream",
     "text": [
      "1.604853752379467\n"
     ]
    }
   ],
   "source": [
    "# Операции над массивами\n",
    "\n",
    "print(a.max())"
   ]
  },
  {
   "cell_type": "code",
   "execution_count": 48,
   "metadata": {},
   "outputs": [
    {
     "name": "stdout",
     "output_type": "stream",
     "text": [
      "a.T:\n",
      " [[-0.81924633  0.6430258   1.37069608 -1.97996514 -0.88781772  1.3233543\n",
      "   1.0591404   0.50879198]\n",
      " [-1.03890433  0.65954981 -1.6171078  -0.51297629  0.93989166 -0.13442045\n",
      "  -0.46178925 -1.27922373]\n",
      " [-1.37538203  1.60485375 -0.95445438  0.82168609 -0.22804859 -0.364\n",
      "  -1.49634032 -1.06923942]] \n",
      "\n",
      "a.reshape(6, 4):\n",
      " [[-0.81924633 -1.03890433 -1.37538203  0.6430258 ]\n",
      " [ 0.65954981  1.60485375  1.37069608 -1.6171078 ]\n",
      " [-0.95445438 -1.97996514 -0.51297629  0.82168609]\n",
      " [-0.88781772  0.93989166 -0.22804859  1.3233543 ]\n",
      " [-0.13442045 -0.364       1.0591404  -0.46178925]\n",
      " [-1.49634032  0.50879198 -1.27922373 -1.06923942]] \n",
      "\n"
     ]
    }
   ],
   "source": [
    "# Преобразование массивов\n",
    "\n",
    "print('a.T:\\n', a.T, '\\n')\n",
    "print('a.reshape(6, 4):\\n', a.reshape(6, 4), '\\n')"
   ]
  },
  {
   "cell_type": "code",
   "execution_count": 49,
   "metadata": {},
   "outputs": [
    {
     "name": "stdout",
     "output_type": "stream",
     "text": [
      "[[-0.81924633 -1.03890433 -1.37538203]\n",
      " [ 0.6430258   0.65954981  1.60485375]\n",
      " [ 1.37069608 -1.6171078  -0.95445438]\n",
      " [-1.97996514 -0.51297629  0.82168609]\n",
      " [-0.88781772  0.93989166 -0.22804859]\n",
      " [ 1.3233543  -0.13442045 -0.364     ]\n",
      " [ 1.0591404  -0.46178925 -1.49634032]\n",
      " [ 0.50879198 -1.27922373 -1.06923942]]\n",
      "[-1.97996514 -1.6171078  -1.49634032]\n"
     ]
    }
   ],
   "source": [
    "# Параметр axis\n",
    "\n",
    "print(a)\n",
    "print(a.min(axis=0))"
   ]
  },
  {
   "cell_type": "code",
   "execution_count": 50,
   "metadata": {
    "colab": {
     "base_uri": "https://localhost:8080/"
    },
    "id": "KVsXsDrV1p7K",
    "outputId": "d2fc92de-c22f-4de6-9998-866337bed41d"
   },
   "outputs": [
    {
     "name": "stdout",
     "output_type": "stream",
     "text": [
      "a[:-2]:\n",
      " [[-0.81924633 -1.03890433 -1.37538203]\n",
      " [ 0.6430258   0.65954981  1.60485375]\n",
      " [ 1.37069608 -1.6171078  -0.95445438]\n",
      " [-1.97996514 -0.51297629  0.82168609]\n",
      " [-0.88781772  0.93989166 -0.22804859]\n",
      " [ 1.3233543  -0.13442045 -0.364     ]] \n",
      "\n",
      "a[2, :]:\n",
      " [ 1.37069608 -1.6171078  -0.95445438] \n",
      "\n",
      "a[2, 3]:\n",
      " -1.6171078016247835 \n",
      "\n"
     ]
    }
   ],
   "source": [
    "# Срезы массивов\n",
    "\n",
    "print('a[:-2]:\\n', a[:-2], '\\n')\n",
    "print('a[2, :]:\\n', a[2, :], '\\n')\n",
    "print('a[2, 3]:\\n', a[2, 1], '\\n')"
   ]
  },
  {
   "cell_type": "code",
   "execution_count": 51,
   "metadata": {},
   "outputs": [
    {
     "name": "stdout",
     "output_type": "stream",
     "text": [
      "[[0. 0. 0.]\n",
      " [0. 0. 0.]\n",
      " [0. 0. 0.]\n",
      " [0. 0. 0.]\n",
      " [0. 0. 0.]\n",
      " [0. 0. 0.]\n",
      " [0. 0. 0.]\n",
      " [0. 0. 0.]] \n",
      "\n",
      "[[  0.   0.   0.]\n",
      " [  0.   0.   0.]\n",
      " [  0.   0.   0.]\n",
      " [  0.   0.   0.]\n",
      " [  0.   0.   0.]\n",
      " [  0.   0.   0.]\n",
      " [  0.   0. 199.]\n",
      " [  0.   0.   0.]] \n",
      "\n",
      "[[  1.   0.   0.]\n",
      " [  1.   0.   0.]\n",
      " [  1.   0.   0.]\n",
      " [  1.   0.   0.]\n",
      " [  1.   0.   0.]\n",
      " [  1.   0.   0.]\n",
      " [  1.   0. 199.]\n",
      " [  1.   0.   0.]] \n",
      "\n",
      "[[  1.   0.   0.]\n",
      " [  0.   1.   2.]\n",
      " [  3.   4.   5.]\n",
      " [  1.   0.   0.]\n",
      " [  1.   0.   0.]\n",
      " [  1.   0.   0.]\n",
      " [  1.   0. 199.]\n",
      " [  1.   0.   0.]] \n",
      "\n"
     ]
    }
   ],
   "source": [
    "# Присваивание значений элементам массивов\n",
    "a = np.zeros((8, 3))\n",
    "\n",
    "print(a, '\\n')\n",
    "\n",
    "a[6, 2] = 199\n",
    "\n",
    "print(a, '\\n')\n",
    "\n",
    "a[:, 0] = 1\n",
    "\n",
    "print(a, '\\n')\n",
    "\n",
    "a[1:3, :] = np.arange(6).reshape(2, 3)\n",
    "\n",
    "print(a, '\\n')"
   ]
  },
  {
   "cell_type": "code",
   "execution_count": 52,
   "metadata": {
    "colab": {
     "base_uri": "https://localhost:8080/"
    },
    "id": "GQTeyaBF1p7K",
    "outputId": "0ee64c82-9355-488c-82ce-3ce6fa398f1d"
   },
   "outputs": [
    {
     "name": "stdout",
     "output_type": "stream",
     "text": [
      "a:\n",
      " [[ 2.          1.17490011]\n",
      " [-1.95352476 -0.84701147]] \n",
      "\n",
      "b:\n",
      " [[2.         2.254454  ]\n",
      " [1.55984871 0.40959689]] \n",
      "\n",
      "np.add(a, b):\n",
      " [[ 4.          3.4293541 ]\n",
      " [-0.39367605 -0.43741458]] \n",
      "\n",
      "a + b:\n",
      " [[ 4.          3.4293541 ]\n",
      " [-0.39367605 -0.43741458]] \n",
      "\n",
      "a + b:\n",
      " [[ 0.         -1.07955389]\n",
      " [-3.51337348 -1.25660836]] \n",
      "\n",
      "a + b:\n",
      " [[ 4.          2.64875824]\n",
      " [-3.04720309 -0.34693326]] \n",
      "\n",
      "a + b:\n",
      " [[ 1.          0.52114619]\n",
      " [-1.25238092 -2.06791479]] \n",
      "\n",
      "b == a:\n",
      " [[ True False]\n",
      " [False False]] \n",
      "\n"
     ]
    }
   ],
   "source": [
    "# Операции с несколькими массивами\n",
    "\n",
    "a = np.random.randn(2,2)\n",
    "b = np.random.randn(2,2)\n",
    "a[0, 0], b[0, 0] = 2, 2\n",
    "\n",
    "print(f'a:\\n', a, '\\n')\n",
    "print(f'b:\\n', b, '\\n')\n",
    "print(f'np.add(a, b):\\n', np.add(a, b), '\\n')\n",
    "print(f'a + b:\\n', a + b, '\\n')\n",
    "print(f'a + b:\\n', a - b, '\\n')\n",
    "print(f'a + b:\\n', a * b, '\\n')\n",
    "print(f'a + b:\\n', a / b, '\\n')\n",
    "print(f'b == a:\\n', b == a, '\\n')\n"
   ]
  },
  {
   "cell_type": "code",
   "execution_count": 53,
   "metadata": {
    "colab": {
     "base_uri": "https://localhost:8080/"
    },
    "id": "xwtAfylI1p7L",
    "outputId": "822fde66-30a2-4ed5-d397-46c0645098c1"
   },
   "outputs": [
    {
     "name": "stdout",
     "output_type": "stream",
     "text": [
      "a -\n",
      "[[-0.30296521 -0.90585665 -0.99253391]\n",
      " [-0.95054852  2.67360198  0.07650045]\n",
      " [-0.0709705  -1.77643162 -1.65249456]\n",
      " [ 2.21708577 -1.32365551  1.38790973]\n",
      " [-0.28779397  0.97434174  0.33164852]]\n",
      "b -\n",
      "[[ 0.17156169 -0.28665367  1.14788214  1.10546004]\n",
      " [ 0.0551095  -1.18095349 -0.6843263   0.51292692]\n",
      " [ 1.27515599 -0.84432884  0.53048004  1.26306361]]\n",
      "c -\n",
      "[[-1.36753409  1.99464567 -0.25438625 -2.05318766]\n",
      " [ 0.08181317 -2.9495129  -2.88015185  0.41719394]\n",
      " [-2.21726241  3.51347589  0.25757773 -3.07684039]\n",
      " [ 2.07722239 -0.24421239  4.18702383  3.52497946]\n",
      " [ 0.42722466 -1.34817549 -0.82118832  0.60051454]]\n",
      "size of c -\n",
      "(5, 4)\n"
     ]
    }
   ],
   "source": [
    "# Матричное умножение\n",
    "\n",
    "a = np.random.randn(5,3)\n",
    "b = np.random.randn(3,4)\n",
    "\n",
    "c = np.matmul(a, b)\n",
    "\n",
    "print(f'a -\\n{a}')\n",
    "print(f'b -\\n{b}')\n",
    "print(f'c -\\n{c}')\n",
    "print(f'size of c -\\n{c.shape}')"
   ]
  },
  {
   "cell_type": "code",
   "execution_count": 54,
   "metadata": {},
   "outputs": [
    {
     "name": "stdout",
     "output_type": "stream",
     "text": [
      "a -\n",
      "[[-1.09619521 -0.49409702 -0.83290066]\n",
      " [-1.13176069  0.03200704  1.2213242 ]\n",
      " [-0.59965004  0.28900287  0.8446779 ]\n",
      " [ 0.40425292 -0.69090742 -0.03431723]\n",
      " [-1.3243763   0.18812924 -0.36131681]]\n",
      "b -\n",
      "[[ 0.35821817  0.47259149  1.29390944  0.96399311]\n",
      " [-0.29811161 -0.12927995  1.14995266 -1.66264823]\n",
      " [ 0.13915248  0.1891245  -0.78485327 -0.16923018]]\n",
      "c -\n",
      "[[-0.36128118 -0.61169761 -1.33286071 -0.09426317]\n",
      " [-0.24500863 -0.30801602 -2.38614955 -1.35091088]\n",
      " [-0.18342163 -0.1610025  -1.10650145 -1.20151361]\n",
      " [ 0.34600294  0.27387674 -0.24451017  1.54424054]\n",
      " [-0.5807773  -0.71854417 -1.21370259 -1.52833666]]\n",
      "size of c -\n",
      "(5, 4)\n"
     ]
    }
   ],
   "source": [
    "# Матричное умножение\n",
    "\n",
    "a = np.random.randn(5,3)\n",
    "b = np.random.randn(3,4)\n",
    "\n",
    "c = np.matmul(a, b)\n",
    "\n",
    "print(f'a -\\n{a}')\n",
    "print(f'b -\\n{b}')\n",
    "print(f'c -\\n{c}')\n",
    "print(f'size of c -\\n{c.shape}')"
   ]
  },
  {
   "cell_type": "code",
   "execution_count": 55,
   "metadata": {
    "colab": {
     "base_uri": "https://localhost:8080/"
    },
    "id": "POpWlQRmkZVp",
    "outputId": "1dfdcd28-c02b-49fa-c9f7-d806b7e39eda"
   },
   "outputs": [
    {
     "name": "stdout",
     "output_type": "stream",
     "text": [
      "a:\n",
      " [0 0 1 2 0 1] \n",
      "\n",
      "b:\n",
      " [[ 1.95544145  0.10192128  0.85100435]\n",
      " [-0.62473919 -0.16955403 -0.60133736]\n",
      " [ 0.44144334 -0.18236363 -0.90134715]\n",
      " [-0.39234386  0.03428022 -0.52347823]\n",
      " [-0.98499201 -1.21497635 -0.59306311]\n",
      " [-0.35401121 -1.32254926  0.15145553]] \n",
      "\n",
      "a == 0: \n",
      " [ True  True False False  True False] \n",
      "\n",
      "b[a == 0]: \n",
      " [[ 1.95544145  0.10192128  0.85100435]\n",
      " [-0.62473919 -0.16955403 -0.60133736]\n",
      " [-0.98499201 -1.21497635 -0.59306311]] \n",
      "\n",
      "b[a == 0, 1]: \n",
      " [ 0.10192128 -0.16955403 -1.21497635] \n",
      "\n",
      "(a == 0).sum(): \n",
      " 3 \n",
      "\n",
      "(b > 0).sum(): \n",
      " 3 \n",
      "\n"
     ]
    }
   ],
   "source": [
    "# Булева индексация\n",
    "\n",
    "a = np.array([0, 0, 1, 2, 0, 1])\n",
    "b = np.random.randn(6, 3)\n",
    "print('a:\\n', a, '\\n')\n",
    "print('b:\\n', b, '\\n')\n",
    "print('a == 0: \\n', a == 0, '\\n')\n",
    "print('b[a == 0]: \\n', b[a == 0], '\\n')\n",
    "print('b[a == 0, 1]: \\n', b[a == 0, 1], '\\n')\n",
    "print('(a == 0).sum(): \\n', (a == 0).sum(), '\\n')\n",
    "print('(b > 0).sum(): \\n', (a == 0).sum(), '\\n')"
   ]
  },
  {
   "cell_type": "markdown",
   "metadata": {
    "id": "1ziivfY8j_39"
   },
   "source": [
    "# MatplotLib"
   ]
  },
  {
   "cell_type": "code",
   "execution_count": 56,
   "metadata": {
    "colab": {
     "base_uri": "https://localhost:8080/",
     "height": 396
    },
    "id": "39FpgjJkBGw_",
    "outputId": "a2e0109f-c013-43e5-e3b1-ded55896af64"
   },
   "outputs": [
    {
     "data": {
      "image/png": "[encoded data removed]",
      "text/plain": [
       "<Figure size 1440x720 with 1 Axes>"
      ]
     },
     "metadata": {
      "needs_background": "light"
     },
     "output_type": "display_data"
    }
   ],
   "source": [
    "# График кривой\n",
    "\n",
    "from matplotlib import pyplot as plt\n",
    "\n",
    "x = np.linspace(0, 10, 50)\n",
    "y1 = np.random.randn(50)\n",
    "y2 = np.random.randn(50)\n",
    "\n",
    "fig, ax = plt.subplots(figsize=(20, 10))\n",
    "\n",
    "ax.plot(x, y1, c='r')\n",
    "ax.plot(x, y2, c='g')\n",
    "ax.set_title('Ttile')\n",
    "ax.set_xlabel('x label')\n",
    "ax.set_ylabel('y label')\n",
    "ax.legend(['y1', 'y2'])\n",
    "plt.show()"
   ]
  },
  {
   "cell_type": "code",
   "execution_count": 57,
   "metadata": {
    "colab": {
     "base_uri": "https://localhost:8080/",
     "height": 621
    },
    "id": "nDPJz21BCMpx",
    "outputId": "049731a1-76e5-46b7-d18d-a34176bdd6e0"
   },
   "outputs": [
    {
     "data": {
      "image/png": "[encoded data removed]",
      "text/plain": [
       "<Figure size 720x720 with 1 Axes>"
      ]
     },
     "metadata": {
      "needs_background": "light"
     },
     "output_type": "display_data"
    }
   ],
   "source": [
    "# График разброса\n",
    "\n",
    "x1 = np.random.randn(50)\n",
    "y1 = np.random.randn(50)\n",
    "\n",
    "x2 = np.random.randn(50) + 5\n",
    "y2 = np.random.randn(50) - 5\n",
    "\n",
    "fig, ax = plt.subplots(figsize=(10, 10))\n",
    "\n",
    "ax.scatter(x1, y1, c='r')\n",
    "ax.scatter(x2, y2, c='g')\n",
    "ax.set_title('Ttile')\n",
    "ax.set_xlabel('x label')\n",
    "ax.set_ylabel('y label')\n",
    "ax.legend(['y1', 'y2'])\n",
    "plt.show()"
   ]
  },
  {
   "cell_type": "code",
   "execution_count": 58,
   "metadata": {
    "colab": {
     "base_uri": "https://localhost:8080/",
     "height": 621
    },
    "id": "PsQ7jJNQDzG3",
    "outputId": "0c031628-b79a-4f49-c47f-2daca6c1bd0c"
   },
   "outputs": [
    {
     "data": {
      "image/png": "[encoded data removed]",
      "text/plain": [
       "<Figure size 720x720 with 4 Axes>"
      ]
     },
     "metadata": {
      "needs_background": "light"
     },
     "output_type": "display_data"
    }
   ],
   "source": [
    "# Вывод несколько графиков\n",
    "\n",
    "fig, ax = plt.subplots(figsize=(10, 10), ncols=2, nrows=2)\n",
    "\n",
    "for i in range(2):\n",
    "    for j in range(2):\n",
    "        x = np.random.randn(50)\n",
    "        y = np.random.randn(50)\n",
    "        ax[i, j].scatter(x, y, c='r')\n",
    "        ax[i, j].set_title(f'row {i}, col {j}')\n",
    "        ax[i, j].set_xlabel('x label')\n",
    "        ax[i, j].set_ylabel('y label')\n",
    "        ax[i, j].legend(['y1', 'y2'])\n",
    "\n",
    "plt.subplots_adjust(left=None, bottom=None, right=None, top=None, wspace=None, hspace=None)\n",
    "\n",
    "# left float, optional\n",
    "# The position of the left edge of the subplots, as a fraction of the figure width.\n",
    "\n",
    "# right float, optional\n",
    "# The position of the right edge of the subplots, as a fraction of the figure width.\n",
    "\n",
    "# bottom float, optional\n",
    "# The position of the bottom edge of the subplots, as a fraction of the figure height.\n",
    "\n",
    "# top float, optional\n",
    "# The position of the top edge of the subplots, as a fraction of the figure height.\n",
    "\n",
    "# wspace float, optional\n",
    "# The width of the padding between subplots, as a fraction of the average Axes width.\n",
    "\n",
    "# hspace float, optional\n",
    "# The height of the padding between subplots, as a fraction of the average Axes height.\n",
    "\n",
    "plt.show()"
   ]
  },
  {
   "cell_type": "code",
   "execution_count": 59,
   "metadata": {
    "colab": {
     "base_uri": "https://localhost:8080/",
     "height": 350
    },
    "id": "zTDPxj6gVjNq",
    "outputId": "907634f9-4f67-4b1d-a39b-29526ac3d1bc"
   },
   "outputs": [
    {
     "data": {
      "image/png": "[encoded data removed]",
      "text/plain": [
       "<Figure size 720x360 with 2 Axes>"
      ]
     },
     "metadata": {
      "needs_background": "light"
     },
     "output_type": "display_data"
    }
   ],
   "source": [
    "# Вывод несколько графиков\n",
    "\n",
    "fig, ax = plt.subplots(figsize=(10, 5), ncols=2)\n",
    "\n",
    "for i in range(2):\n",
    "        x = np.random.randn(50)\n",
    "        y = np.random.randn(50)\n",
    "        ax[i].scatter(x, y, c='r')\n",
    "        ax[i].set_title(f'row {i}, col {j}')\n",
    "        ax[i].set_xlabel('x label')\n",
    "        ax[i].set_ylabel('y label')\n",
    "        ax[i].legend(['y1', 'y2'])\n",
    "\n",
    "plt.subplots_adjust(left=None, bottom=None, right=None, top=None, wspace=None, hspace=None)\n",
    "\n",
    "# left float, optional\n",
    "# The position of the left edge of the subplots, as a fraction of the figure width.\n",
    "\n",
    "# right float, optional\n",
    "# The position of the right edge of the subplots, as a fraction of the figure width.\n",
    "\n",
    "# bottom float, optional\n",
    "# The position of the bottom edge of the subplots, as a fraction of the figure height.\n",
    "\n",
    "# top float, optional\n",
    "# The position of the top edge of the subplots, as a fraction of the figure height.\n",
    "\n",
    "# wspace float, optional\n",
    "# The width of the padding between subplots, as a fraction of the average Axes width.\n",
    "\n",
    "# hspace float, optional\n",
    "# The height of the padding between subplots, as a fraction of the average Axes height.\n",
    "\n",
    "plt.show()"
   ]
  },
  {
   "cell_type": "markdown",
   "metadata": {
    "id": "LdXRo34Z1p7I"
   },
   "source": [
    "# Полезные функции"
   ]
  },
  {
   "cell_type": "code",
   "execution_count": 60,
   "metadata": {
    "id": "_UG8fgRp1p7J"
   },
   "outputs": [
    {
     "name": "stdout",
     "output_type": "stream",
     "text": [
      "[1, 2, 3, 4, 5, 6, 7]\n"
     ]
    }
   ],
   "source": [
    "# Функция \"map\"\n",
    "\n",
    "a = ['1', '2', '3', '4', '5', '6', '7']\n",
    "b = list(map(int, a))\n",
    "\n",
    "print(b)"
   ]
  },
  {
   "cell_type": "code",
   "execution_count": 61,
   "metadata": {
    "id": "NqoO-NfO1p7J"
   },
   "outputs": [
    {
     "name": "stdout",
     "output_type": "stream",
     "text": [
      "[3, 6, 11, 18, 27, 38, 51]\n"
     ]
    }
   ],
   "source": [
    "# Функция \"lambda\"\n",
    "\n",
    "a = [1, 2, 3, 4, 5, 6, 7]\n",
    "b = list(map(lambda x: x ** 2 + 2, a))\n",
    "\n",
    "\n",
    "print(b)"
   ]
  },
  {
   "cell_type": "code",
   "execution_count": 62,
   "metadata": {
    "id": "Q-5Q1Jy41p7J"
   },
   "outputs": [
    {
     "name": "stdout",
     "output_type": "stream",
     "text": [
      "[1, 3, 5, 7]\n"
     ]
    }
   ],
   "source": [
    "# Функция \"filter\"\n",
    "\n",
    "a = [1, 2, 3, 4, 5, 6, 7]\n",
    "b = list(filter(lambda x: x % 2, a)) \n",
    "\n",
    "print (b)"
   ]
  },
  {
   "cell_type": "code",
   "execution_count": 63,
   "metadata": {
    "id": "dTPITwyQ1p7J"
   },
   "outputs": [
    {
     "name": "stdout",
     "output_type": "stream",
     "text": [
      "14\n"
     ]
    }
   ],
   "source": [
    "# Функция \"reduce\"\n",
    "\n",
    "from functools import reduce\n",
    "\n",
    "a = [1, 2, 3]\n",
    "b = reduce(lambda x,y: x + y ** 2, a)\n",
    "\n",
    "print (b)"
   ]
  },
  {
   "cell_type": "code",
   "execution_count": 64,
   "metadata": {
    "id": "VkzHihoK1p7J"
   },
   "outputs": [
    {
     "name": "stdout",
     "output_type": "stream",
     "text": [
      "[(1, 4, 7), (2, 5, 8)]\n"
     ]
    }
   ],
   "source": [
    "# Функция \"zip\"\n",
    "\n",
    "a = [1,2,3]\n",
    "b = [4,5,6]\n",
    "c = [7,8]\n",
    "res = list(zip(a, b, c))\n",
    "\n",
    "print (res)"
   ]
  }
 ],
 "metadata": {
  "colab": {
   "collapsed_sections": [],
   "name": "python_get_started.ipynb",
   "provenance": []
  },
  "kernelspec": {
   "display_name": "Python 3",
   "language": "python",
   "name": "python3"
  },
  "language_info": {
   "codemirror_mode": {
    "name": "ipython",
    "version": 3
   },
   "file_extension": ".py",
   "mimetype": "text/x-python",
   "name": "python",
   "nbconvert_exporter": "python",
   "pygments_lexer": "ipython3",
   "version": "3.8.8"
  },
  "varInspector": {
   "cols": {
    "lenName": 16,
    "lenType": 16,
    "lenVar": 40
   },
   "kernels_config": {
    "python": {
     "delete_cmd_postfix": "",
     "delete_cmd_prefix": "del ",
     "library": "var_list.py",
     "varRefreshCmd": "print(var_dic_list())"
    },
    "r": {
     "delete_cmd_postfix": ") ",
     "delete_cmd_prefix": "rm(",
     "library": "var_list.r",
     "varRefreshCmd": "cat(var_dic_list()) "
    }
   },
   "types_to_exclude": [
    "module",
    "function",
    "builtin_function_or_method",
    "instance",
    "_Feature"
   ],
   "window_display": false
  }
 },
 "nbformat": 4,
 "nbformat_minor": 1
}
